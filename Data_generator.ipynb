{
  "cells": [
    {
      "cell_type": "markdown",
      "source": [
        "# Generating Nonograms"
      ],
      "metadata": {}
    },
    {
      "cell_type": "code",
      "source": [
        "import random\n",
        "import numpy as np\n",
        "from bisect import bisect_left\n",
        "from tqdm import tqdm"
      ],
      "outputs": [],
      "execution_count": 1,
      "metadata": {
        "gather": {
          "logged": 1639753906958
        }
      }
    },
    {
      "cell_type": "code",
      "source": [
        "def n_gen(a, N=8):\n",
        "    \"\"\"\n",
        "    N: size of N*N nonogram\n",
        "    a: number of coloured tiles in nonogram\n",
        "    return two arrays: two numpy arrays of column conditions and row conditions, and the corresponding nonogram (2d array)\n",
        "    \"\"\"\n",
        "    assert isinstance(N, int)\n",
        "    assert isinstance(a, int)\n",
        "    \n",
        "    # Generate nonogram with random\n",
        "    numlist = list(range(0, N*N))\n",
        "\n",
        "    # coloured_list is the list of indices of the coloured blocks\n",
        "    coloured_list = random.sample(numlist, a)\n",
        "\n",
        "    # empty_list is the list of indices of empty (white) blocks\n",
        "    empty_list = list(set(numlist) - set(coloured_list))\n",
        "\n",
        "    nonogram = [ [0]*N for i in range(0, N)]\n",
        "\n",
        "    for el in coloured_list:\n",
        "        nonogram[el//N][el%N] = 1\n",
        "    \n",
        "    nonogram = np.array(nonogram)\n",
        "\n",
        "\n",
        "    row_condition = []\n",
        "    column_condition = []\n",
        "\n",
        "    \n",
        "    # get row conditions (row representations)\n",
        "\n",
        "    for i in range(0, N):\n",
        "        # list of indices of empty (white) blocks of the corresponding row\n",
        "        row_empty_list = [i*N-1] + empty_list[bisect_left(empty_list, i*N):bisect_left(empty_list, (i+1)*N)] + [(i+1)*N]\n",
        "        \n",
        "        # represent row conditions\n",
        "        diff_row = np.diff(row_empty_list) - 1\n",
        "\n",
        "        row_condition.append([el for el in diff_row if el != 0])\n",
        "\n",
        "\n",
        "\n",
        "    # get column conditions (column representations)\n",
        "\n",
        "    converted_empty_list = sorted([(N*(el%N)+(el//N)) for el in empty_list])\n",
        "\n",
        "    for i in range(0, N):\n",
        "\n",
        "        column_empty_list = [i*N-1] + converted_empty_list[bisect_left(converted_empty_list, i*N):bisect_left(converted_empty_list, (i+1)*N)] + [(i+1)*N]\n",
        "        \n",
        "        diff_row = np.diff(column_empty_list) - 1\n",
        "\n",
        "        column_condition.append([el for el in diff_row if el != 0])\n",
        "\n",
        "\n",
        "    # print(sorted(coloured_list))\n",
        "    # print(nonogram)\n",
        "    # print(row_condition)\n",
        "    # print(column_condition)\n",
        "    return np.array([row_condition, column_condition]), nonogram\n"
      ],
      "outputs": [],
      "execution_count": 2,
      "metadata": {
        "gather": {
          "logged": 1639753907658
        }
      }
    },
    {
      "cell_type": "code",
      "source": [
        "condition, nonogram = n_gen(32, 8)"
      ],
      "outputs": [],
      "execution_count": 3,
      "metadata": {
        "gather": {
          "logged": 1639753909244
        }
      }
    },
    {
      "cell_type": "code",
      "source": [
        "print('row condition: ', end = \"\\n\")\n",
        "print(*list(condition[0]))\n",
        "# print(*list(condition[0]), sep = '\\n')\n",
        "print('column condition: ', end = \"\\n\")\n",
        "print(*list(condition[1]))\n",
        "# print(*list(condition[1]), sep = '\\n')\n",
        "print(nonogram)"
      ],
      "outputs": [
        {
          "output_type": "stream",
          "name": "stdout",
          "text": "row condition: \n[1] [1, 2, 2] [1, 2, 3] [2, 1, 1] [2] [1, 2, 2] [1, 1, 3] [1, 2, 1]\ncolumn condition: \n[1, 2, 3] [1, 1] [1, 2, 1] [7] [1] [2, 2] [2, 2] [2, 2]\n[[1 0 0 0 0 0 0 0]\n [0 1 0 1 1 0 1 1]\n [1 0 1 1 0 1 1 1]\n [1 1 0 1 0 1 0 0]\n [0 0 1 1 0 0 0 0]\n [1 0 1 1 0 1 1 0]\n [1 0 0 1 0 1 1 1]\n [1 0 1 1 0 0 0 1]]\n"
        }
      ],
      "execution_count": 4,
      "metadata": {
        "gather": {
          "logged": 1639753910792
        }
      }
    },
    {
      "cell_type": "code",
      "source": [
        "type(condition), condition.shape, type(nonogram), nonogram.shape"
      ],
      "outputs": [
        {
          "output_type": "execute_result",
          "execution_count": 5,
          "data": {
            "text/plain": "(numpy.ndarray, (2, 8), numpy.ndarray, (8, 8))"
          },
          "metadata": {}
        }
      ],
      "execution_count": 5,
      "metadata": {
        "gather": {
          "logged": 1639753916782
        }
      }
    },
    {
      "cell_type": "code",
      "source": [
        "# Create Training dataset\n",
        "X_train = []\n",
        "Y_train = []\n",
        "\n",
        "for i in [20,22,24,26,28,30]:\n",
        "    for j in tqdm(range(100000)):\n",
        "        condition, nonogram = n_gen(a = i, N = 10)\n",
        "        X_train.append(condition.astype(object))\n",
        "        Y_train.append(nonogram)\n",
        "\n",
        "X_train = np.array(X_train)\n",
        "Y_train = np.array(Y_train)\n",
        "\n",
        "print(X_train.shape)\n",
        "print(Y_train.shape)"
      ],
      "outputs": [
        {
          "output_type": "stream",
          "name": "stderr",
          "text": "100%|██████████| 100000/100000 [00:39<00:00, 2545.27it/s]\n100%|██████████| 100000/100000 [00:38<00:00, 2605.23it/s]\n100%|██████████| 100000/100000 [00:38<00:00, 2575.95it/s]\n100%|██████████| 100000/100000 [00:38<00:00, 2599.74it/s]\n100%|██████████| 100000/100000 [00:38<00:00, 2579.66it/s]\n100%|██████████| 100000/100000 [00:38<00:00, 2583.36it/s]\n"
        },
        {
          "output_type": "stream",
          "name": "stdout",
          "text": "(600000, 2, 10)\n(600000, 10, 10)\n"
        }
      ],
      "execution_count": 8,
      "metadata": {
        "gather": {
          "logged": 1638970110746
        }
      }
    },
    {
      "cell_type": "code",
      "source": [
        "# Save train data\n",
        "print('Saving...', flush = True)\n",
        "np.save('./data/X_train.npy', X_train)\n",
        "np.save('./data/Y_train.npy', Y_train)\n",
        "print('Done')"
      ],
      "outputs": [
        {
          "output_type": "stream",
          "name": "stdout",
          "text": "Saving...\nDone\n"
        }
      ],
      "execution_count": 9,
      "metadata": {
        "gather": {
          "logged": 1638970197756
        }
      }
    },
    {
      "cell_type": "code",
      "source": [
        "del X_train, Y_train"
      ],
      "outputs": [],
      "execution_count": 10,
      "metadata": {
        "gather": {
          "logged": 1638970199661
        }
      }
    },
    {
      "cell_type": "code",
      "source": [
        "# Create Test dataset\n",
        "X_test = []\n",
        "Y_test = []\n",
        "\n",
        "for i in [21, 23, 25, 27, 29]:\n",
        "    for j in tqdm(range(10000)):\n",
        "        condition, nonogram = n_gen(a = i, N = 10)\n",
        "        X_test.append(condition.astype(object))\n",
        "        Y_test.append(nonogram)\n",
        "\n",
        "X_test = np.array(X_test)\n",
        "Y_test = np.array(Y_test)\n",
        "\n",
        "print(X_test.shape)\n",
        "print(Y_test.shape)"
      ],
      "outputs": [
        {
          "output_type": "stream",
          "name": "stderr",
          "text": "100%|██████████| 10000/10000 [00:04<00:00, 2392.27it/s]\n100%|██████████| 10000/10000 [00:04<00:00, 2354.19it/s]\n100%|██████████| 10000/10000 [00:03<00:00, 2543.26it/s]\n100%|██████████| 10000/10000 [00:03<00:00, 2536.43it/s]\n100%|██████████| 10000/10000 [00:03<00:00, 2525.17it/s]\n"
        },
        {
          "output_type": "stream",
          "name": "stdout",
          "text": "(50000, 2, 10)\n(50000, 10, 10)\n"
        }
      ],
      "execution_count": 6,
      "metadata": {
        "gather": {
          "logged": 1639753943106
        }
      }
    },
    {
      "cell_type": "code",
      "source": [
        "# Save train data\n",
        "print('Saving...', flush = True)\n",
        "np.save('./data/X_test.npy', X_test)\n",
        "np.save('./data/Y_test.npy', Y_test)\n",
        "print('Done')"
      ],
      "outputs": [
        {
          "output_type": "stream",
          "name": "stdout",
          "text": "Saving...\nDone\n"
        }
      ],
      "execution_count": 7,
      "metadata": {
        "gather": {
          "logged": 1639753966407
        }
      }
    },
    {
      "cell_type": "code",
      "source": [
        "# Create Test_little dataset\r\n",
        "X_test_little = []\r\n",
        "Y_test_little = []\r\n",
        "\r\n",
        "for i in [3, 5, 7, 9]:\r\n",
        "    for j in tqdm(range(10000)):\r\n",
        "        condition, nonogram = n_gen(a = i, N = 10)\r\n",
        "        X_test_little.append(condition.astype(object))\r\n",
        "        Y_test_little.append(nonogram)\r\n",
        "\r\n",
        "X_test_little = np.array(X_test_little)\r\n",
        "Y_test_little = np.array(Y_test_little)\r\n",
        "\r\n",
        "print(X_test_little.shape)\r\n",
        "print(Y_test_little.shape)\r\n",
        "\r\n",
        "# Save train data\r\n",
        "print('Saving...', flush = True)\r\n",
        "np.save('./data/X_test_little.npy', X_test_little)\r\n",
        "np.save('./data/Y_test_little.npy', Y_test_little)\r\n",
        "print('Done')"
      ],
      "outputs": [
        {
          "output_type": "stream",
          "name": "stderr",
          "text": "100%|██████████| 10000/10000 [00:03<00:00, 2779.94it/s]\n100%|██████████| 10000/10000 [00:03<00:00, 2741.82it/s]\n100%|██████████| 10000/10000 [00:04<00:00, 2489.76it/s]\n100%|██████████| 10000/10000 [00:04<00:00, 2410.83it/s]\n"
        },
        {
          "output_type": "stream",
          "name": "stdout",
          "text": "(40000, 2, 10)\n(40000, 10, 10)\nSaving...\nDone\n"
        }
      ],
      "execution_count": 11,
      "metadata": {
        "gather": {
          "logged": 1639754161055
        }
      }
    },
    {
      "cell_type": "code",
      "source": [
        "# Create Test_little dataset\r\n",
        "X_test_many = []\r\n",
        "Y_test_many = []\r\n",
        "\r\n",
        "for i in [60, 62, 64, 66]:\r\n",
        "    for j in tqdm(range(10000)):\r\n",
        "        condition, nonogram = n_gen(a = i, N = 10)\r\n",
        "        X_test_many.append(condition.astype(object))\r\n",
        "        Y_test_many.append(nonogram)\r\n",
        "\r\n",
        "X_test_many = np.array(X_test_many)\r\n",
        "Y_test_many = np.array(Y_test_many)\r\n",
        "\r\n",
        "print(X_test_many.shape)\r\n",
        "print(Y_test_many.shape)\r\n",
        "\r\n",
        "# Save train data\r\n",
        "print('Saving...', flush = True)\r\n",
        "np.save('./data/X_test_many.npy', X_test_many)\r\n",
        "np.save('./data/Y_test_many.npy', Y_test_many)\r\n",
        "print('Done')"
      ],
      "outputs": [
        {
          "output_type": "stream",
          "name": "stderr",
          "text": "100%|██████████| 10000/10000 [00:03<00:00, 2556.70it/s]\n100%|██████████| 10000/10000 [00:03<00:00, 2717.25it/s]\n100%|██████████| 10000/10000 [00:03<00:00, 2720.95it/s]\n100%|██████████| 10000/10000 [00:04<00:00, 2414.72it/s]\n"
        },
        {
          "output_type": "stream",
          "name": "stdout",
          "text": "(40000, 2, 10)\n(40000, 10, 10)\nSaving...\nDone\n"
        }
      ],
      "execution_count": 16,
      "metadata": {
        "jupyter": {
          "source_hidden": false,
          "outputs_hidden": false
        },
        "nteract": {
          "transient": {
            "deleting": false
          }
        },
        "gather": {
          "logged": 1639756516738
        }
      }
    },
    {
      "cell_type": "code",
      "source": [],
      "outputs": [],
      "execution_count": null,
      "metadata": {
        "jupyter": {
          "source_hidden": false,
          "outputs_hidden": false
        },
        "nteract": {
          "transient": {
            "deleting": false
          }
        }
      }
    }
  ],
  "metadata": {
    "interpreter": {
      "hash": "5a98bb2ad8bbfef9146e7cd8fcbe2d88dc6c490ef1c1850a96d231f356e2e48d"
    },
    "kernelspec": {
      "name": "python3",
      "language": "python",
      "display_name": "Python 3"
    },
    "language_info": {
      "name": "python",
      "version": "3.6.9",
      "mimetype": "text/x-python",
      "codemirror_mode": {
        "name": "ipython",
        "version": 3
      },
      "pygments_lexer": "ipython3",
      "nbconvert_exporter": "python",
      "file_extension": ".py"
    },
    "orig_nbformat": 4,
    "kernel_info": {
      "name": "python3"
    },
    "nteract": {
      "version": "nteract-front-end@1.0.0"
    },
    "microsoft": {
      "host": {
        "AzureML": {
          "notebookHasBeenCompleted": true
        }
      }
    }
  },
  "nbformat": 4,
  "nbformat_minor": 2
}