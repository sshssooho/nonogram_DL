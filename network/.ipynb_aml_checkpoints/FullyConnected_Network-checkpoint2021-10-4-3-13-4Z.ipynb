{
 "cells": [
  {
   "cell_type": "code",
   "execution_count": null,
   "metadata": {},
   "outputs": [],
   "source": [
    "import torch\n",
    "import torch.nn as nn\n",
    "import torch.nn.functional as F\n",
    "# !pip install torch-optimizer\n",
    "import torch_optimizer as optim   "
   ]
  },
  {
   "cell_type": "code",
   "execution_count": null,
   "metadata": {},
   "outputs": [],
   "source": [
    "class Linear_block(nn.Module):\n",
    "    def __init__(self, in_feature, out_feature, dropout):\n",
    "\n",
    "        super().__init__()\n",
    "        self.block = nn.Sequential(\n",
    "            nn.Linear(in_feature, out_feature),\n",
    "            nn.SELU(),\n",
    "            nn.Dropout(dropout)\n",
    "        )\n",
    "\n",
    "\n",
    "    def forward(self, x):\n",
    "        x = self.block(x)\n",
    "        return x\n"
   ]
  },
  {
   "cell_type": "code",
   "execution_count": null,
   "metadata": {},
   "outputs": [],
   "source": [
    "class MLP_Network(nn.Module):\n",
    "    def __init__(self, num_pixels):\n",
    "        super().__init__()\n",
    "\n",
    "        H = num_pixels*num_pixels\n",
    "\n",
    "        self.block1 = Linear_block(in_feature = 2*H, out_feature = 4*H, dropout = 0.2)\n",
    "        self.block2 = Linear_block(in_feature = 4*H, out_feature = 4*H, dropout = 0.2)\n",
    "        self.block3 = Linear_block(in_feature = 4*H, out_feature = 2*H, dropout = 0.2)\n",
    "\n",
    "        self.last_block = nn.Sequential(\n",
    "            nn.Linear(2*H, H),\n",
    "            nn.Sigmoid()\n",
    "        )\n",
    "\n",
    "\n",
    "        \n",
    "    def forward(self, x):\n",
    "\n",
    "        x = torch.flatten(x, start_dim = 1)\n",
    "\n",
    "        x = self.block1(x)\n",
    "        x = self.block2(x)\n",
    "        x = self.block2(x)\n",
    "        x = self.block3(x)\n",
    "        x = self.last_block(x)\n",
    "        \n",
    "        return x\n",
    "                           "
   ]
  }
 ],
 "metadata": {
  "language_info": {
   "name": "python"
  },
  "orig_nbformat": 4
 },
 "nbformat": 4,
 "nbformat_minor": 2
}
