{
  "cells": [
    {
      "cell_type": "code",
      "source": [
        "import torch\n",
        "import torch.nn as nn\n",
        "import torch.nn.functional as F\n",
        "# !pip install torch-optimizer\n",
        "import torch_optimizer as optim   \n",
        "import einops\n",
        "from einops import rearrange"
      ],
      "outputs": [],
      "execution_count": 1,
      "metadata": {
        "gather": {
          "logged": 1639046204040
        }
      }
    },
    {
      "cell_type": "code",
      "source": [
        "class Linear_block(nn.Module):\n",
        "    def __init__(self, in_feature, out_feature, dropout):\n",
        "\n",
        "        super().__init__()\n",
        "        self.block = nn.Sequential(\n",
        "            nn.Linear(in_feature, out_feature),\n",
        "            nn.SELU(),\n",
        "            nn.Dropout(dropout)\n",
        "        )\n",
        "\n",
        "\n",
        "    def forward(self, x):\n",
        "        x = self.block(x)\n",
        "        return x\n"
      ],
      "outputs": [],
      "execution_count": 2,
      "metadata": {
        "gather": {
          "logged": 1639046204236
        }
      }
    },
    {
      "cell_type": "code",
      "source": [
        "class FCnet(nn.Module):\n",
        "    def __init__(self, num_pixels):\n",
        "        super().__init__()\n",
        "\n",
        "        self.N = num_pixels\n",
        "\n",
        "        H = num_pixels*num_pixels\n",
        "\n",
        "        self.block1 = Linear_block(in_feature = 2*H, out_feature = 4*H, dropout = 0.2)\n",
        "        self.block2 = Linear_block(in_feature = 4*H, out_feature = 4*H, dropout = 0.2)\n",
        "        self.block3 = Linear_block(in_feature = 4*H, out_feature = 2*H, dropout = 0.2)\n",
        "\n",
        "        self.last_block = nn.Sequential(\n",
        "            nn.Linear(2*H, H),\n",
        "            nn.Sigmoid()\n",
        "        )\n",
        "\n",
        "\n",
        "        \n",
        "    def forward(self, x):\n",
        "\n",
        "        x = torch.flatten(x, start_dim = 1)\n",
        "\n",
        "        x = self.block1(x)\n",
        "        x = self.block2(x)\n",
        "        x = self.block2(x)\n",
        "        x = self.block3(x)\n",
        "        x = self.last_block(x)\n",
        "\n",
        "        x = rearrange(x, 'b (N1 N2) -> b N1 N2', N2 = self.N)\n",
        "        \n",
        "        return x\n",
        "                           "
      ],
      "outputs": [],
      "execution_count": null,
      "metadata": {}
    },
    {
      "cell_type": "code",
      "source": [],
      "outputs": [],
      "execution_count": null,
      "metadata": {
        "jupyter": {
          "source_hidden": false,
          "outputs_hidden": false
        },
        "nteract": {
          "transient": {
            "deleting": false
          }
        }
      }
    }
  ],
  "metadata": {
    "language_info": {
      "name": "python",
      "version": "3.6.9",
      "mimetype": "text/x-python",
      "codemirror_mode": {
        "name": "ipython",
        "version": 3
      },
      "pygments_lexer": "ipython3",
      "nbconvert_exporter": "python",
      "file_extension": ".py"
    },
    "orig_nbformat": 4,
    "kernelspec": {
      "name": "python3-azureml",
      "language": "python",
      "display_name": "Python 3.6 - AzureML"
    },
    "kernel_info": {
      "name": "python3-azureml"
    },
    "nteract": {
      "version": "nteract-front-end@1.0.0"
    }
  },
  "nbformat": 4,
  "nbformat_minor": 2
}