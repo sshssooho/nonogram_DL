{
 "cells": [
  {
   "cell_type": "markdown",
   "metadata": {},
   "source": [
    "# Main Code"
   ]
  },
  {
   "cell_type": "code",
   "execution_count": 13,
   "metadata": {},
   "outputs": [],
   "source": [
    "import numpy as np\n",
    "from sklearn.model_selection import train_test_split\n",
    "\n",
    "import torch\n",
    "import torch.nn as nn\n",
    "import torch.nn.functional as F"
   ]
  },
  {
   "cell_type": "markdown",
   "metadata": {},
   "source": [
    "## Get Data"
   ]
  },
  {
   "cell_type": "code",
   "execution_count": 15,
   "metadata": {},
   "outputs": [
    {
     "name": "stdout",
     "output_type": "stream",
     "text": [
      "loading...\n",
      "done\n"
     ]
    }
   ],
   "source": [
    "print('loading...', flush = True)\n",
    "X_train = np.load('./data/X_train.npy', allow_pickle= True)  # X_train and X_test is pickled\n",
    "Y_train = np.load('./data/Y_train.npy')\n",
    "X_test = np.load('./data/X_test.npy', allow_pickle= True)\n",
    "Y_test = np.load('./data/Y_test.npy')\n",
    "print('done')"
   ]
  },
  {
   "cell_type": "markdown",
   "metadata": {},
   "source": [
    "## Preprocessing - converting conditions into 'possibility maps'"
   ]
  },
  {
   "cell_type": "code",
   "execution_count": 16,
   "metadata": {},
   "outputs": [
    {
     "data": {
      "text/plain": [
       "((60000, 2, 8), (60000, 8, 8), (10000, 2, 8), (10000, 8, 8))"
      ]
     },
     "execution_count": 16,
     "metadata": {},
     "output_type": "execute_result"
    }
   ],
   "source": [
    "X_train.shape, Y_train.shape, X_test.shape, Y_test.shape"
   ]
  },
  {
   "cell_type": "code",
   "execution_count": 17,
   "metadata": {},
   "outputs": [
    {
     "data": {
      "text/plain": [
       "8"
      ]
     },
     "execution_count": 17,
     "metadata": {},
     "output_type": "execute_result"
    }
   ],
   "source": [
    "X_train.shape[-1]"
   ]
  },
  {
   "cell_type": "code",
   "execution_count": 23,
   "metadata": {},
   "outputs": [],
   "source": [
    "def searchcombinationsUtil(k, n):\n",
    "    \"\"\"\n",
    "    k: number of elements (>= 1)\n",
    "    n: total sum of elements\n",
    "    return all possible combinations of k numbers that add up to n, regarding its order\n",
    "    \"\"\"\n",
    "    # Recursive function\n",
    "    \n",
    "    if k == 1:\n",
    "        return [[n]]\n",
    "    else:\n",
    "        output = []\n",
    "        for i in range(0, n+1):\n",
    "            output += [[i]+items for items in searchcombinationsUtil(k-1, n-i)]\n",
    "        return output        "
   ]
  },
  {
   "cell_type": "code",
   "execution_count": 43,
   "metadata": {},
   "outputs": [],
   "source": [
    "def pixel_val_calculator(constraint, N):\n",
    "    \"\"\"\n",
    "    constraint: the condition(constraint) of a single row/column in a nonogram\n",
    "    N: the length of the width/height of the nonogram\n",
    "    returns a vector with length N, and each value of the vector is the possibility of the corresponding pixel to be colored\n",
    "    \"\"\"\n",
    "    total_colored = np.sum(constraint)\n",
    "\n",
    "    if(len(constraint) == 0):\n",
    "        return [0 for _ in range(N)]\n",
    "    else:\n",
    "        combinations = searchcombinationsUtil(k=int(len(constraint)+1), n= int(N-total_colored-len(constraint)+1))\n",
    "        output = []\n",
    "\n",
    "        for each_combination in combinations:\n",
    "            pixel_val = []\n",
    "            for idx, elements in enumerate(each_combination):\n",
    "                if (idx == 0) or (idx == len(constraint)):\n",
    "                    pixel_val += [0 for _ in range(elements)]\n",
    "                else:\n",
    "                    pixel_val += [0 for _ in range(elements+1)]\n",
    "                if idx != (len(constraint)):\n",
    "                    pixel_val += [1 for _ in range(constraint[idx])]\n",
    "            output.append(pixel_val)\n",
    "        \n",
    "        output = np.array(output, dtype = np.float64)\n",
    "        output = np.sum(output, axis = 0)\n",
    "        output/= len(combinations)\n",
    "\n",
    "        return output"
   ]
  },
  {
   "cell_type": "code",
   "execution_count": 44,
   "metadata": {},
   "outputs": [
    {
     "data": {
      "text/plain": [
       "array([0.66666667, 1.        , 1.        , 1.        , 1.        ,\n",
       "       1.        , 1.        , 0.33333333, 0.33333333, 0.66666667])"
      ]
     },
     "execution_count": 44,
     "metadata": {},
     "output_type": "execute_result"
    }
   ],
   "source": [
    "pixel_val_calculator([7, 1], 10)"
   ]
  },
  {
   "cell_type": "code",
   "execution_count": 50,
   "metadata": {},
   "outputs": [],
   "source": [
    "def possibility_map_generator(X):\n",
    "    \"\"\"\n",
    "    X: (batch_size, 2, N) or (batch_size, 2, N, t) only if all constraints are composed of same number of blocks (=t)\n",
    "    (2, N): each nonogram puzzle\n",
    "    2 stands for each condition (row condition, column condition)\n",
    "    N stands for the number of pixels (Number of total constraints)\n",
    "    returns possibility_map: (batch_size, 2, N, N)\n",
    "    \"\"\"\n",
    "    if X.ndim == 3:\n",
    "        N = X.shape[-1]\n",
    "    if X.ndim == 4:\n",
    "        N = X.shape[-2]\n",
    "\n",
    "    possibility_map = []\n",
    "    for puzzles in X:\n",
    "        row_condition = puzzles[0]\n",
    "        row_map = []\n",
    "        for constraints in row_condition:\n",
    "            row_map.append(pixel_val_calculator(constraint=constraints, N=N))\n",
    "        row_map = np.array(row_map)\n",
    "\n",
    "        column_condition = puzzles[1]\n",
    "        column_map = []\n",
    "        for constraints in column_condition:\n",
    "            column_map.append(pixel_val_calculator(constraint=constraints, N=N))\n",
    "        column_map = np.array(column_map)\n",
    "        column_map = column_map.T\n",
    "\n",
    "        possibility_map.append(np.array([row_map, column_map]))\n",
    "        \n",
    "    possibilty_map = np.array(possibility_map)\n",
    "    return possibility_map"
   ]
  },
  {
   "cell_type": "code",
   "execution_count": 52,
   "metadata": {},
   "outputs": [
    {
     "name": "stdout",
     "output_type": "stream",
     "text": [
      "(2, 2, 1)\n"
     ]
    },
    {
     "data": {
      "text/plain": [
       "[array([[[1. , 1. ],\n",
       "         [0.5, 0.5]],\n",
       " \n",
       "        [[0.5, 1. ],\n",
       "         [0.5, 1. ]]])]"
      ]
     },
     "execution_count": 52,
     "metadata": {},
     "output_type": "execute_result"
    }
   ],
   "source": [
    "a = np.array([[[2], [1]], [[1], [2]]])\n",
    "print(a.shape)\n",
    "possibility_map_generator(np.expand_dims(a,0))"
   ]
  },
  {
   "cell_type": "code",
   "execution_count": null,
   "metadata": {},
   "outputs": [],
   "source": []
  }
 ],
 "metadata": {
  "interpreter": {
   "hash": "845270aa2c885a888b45db3c1bae60d031e62d06b801817adb1ea555314d8774"
  },
  "kernelspec": {
   "display_name": "Python 3.7.7 64-bit ('base': conda)",
   "name": "python3"
  },
  "language_info": {
   "codemirror_mode": {
    "name": "ipython",
    "version": 3
   },
   "file_extension": ".py",
   "mimetype": "text/x-python",
   "name": "python",
   "nbconvert_exporter": "python",
   "pygments_lexer": "ipython3",
   "version": "3.7.7"
  },
  "orig_nbformat": 4
 },
 "nbformat": 4,
 "nbformat_minor": 2
}
