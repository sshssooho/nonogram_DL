{
  "cells": [
    {
      "cell_type": "markdown",
      "source": [
        "# Main Code"
      ],
      "metadata": {}
    },
    {
      "cell_type": "code",
      "source": [
        "import numpy as np\n",
        "from sklearn.model_selection import train_test_split\n",
        "from heapq import nlargest\n",
        "from sklearn.metrics import accuracy_score\n",
        "\n",
        "from tqdm import tqdm\n",
        "\n",
        "import time\n",
        "\n",
        "import torch\n",
        "import torch.nn as nn\n",
        "import torch.nn.functional as F\n",
        "# !pip install torch-optimizer\n",
        "import torch_optimizer as optim   \n",
        "from torch.utils.data import Dataset, DataLoader\n",
        "from torch.nn import MSELoss"
      ],
      "outputs": [],
      "execution_count": 1,
      "metadata": {
        "gather": {
          "logged": 1635996788277
        }
      }
    },
    {
      "cell_type": "code",
      "source": [
        "import import_ipynb\n",
        "import MLP\n",
        "from MLP import MLP_Network"
      ],
      "outputs": [
        {
          "output_type": "stream",
          "name": "stdout",
          "text": "importing Jupyter notebook from MLP.ipynb\n"
        }
      ],
      "execution_count": 2,
      "metadata": {
        "gather": {
          "logged": 1635996833300
        }
      }
    },
    {
      "cell_type": "markdown",
      "source": [
        "## Get Data"
      ],
      "metadata": {}
    },
    {
      "cell_type": "code",
      "source": [
        "print('loading...', flush = True)\n",
        "X_train = np.load('./data/X_train.npy', allow_pickle= True)  # X_train and X_test is pickled\n",
        "Y_train = np.load('./data/Y_train.npy')\n",
        "X_test = np.load('./data/X_test.npy', allow_pickle= True)\n",
        "Y_test = np.load('./data/Y_test.npy')\n",
        "print('done')"
      ],
      "outputs": [
        {
          "output_type": "stream",
          "name": "stdout",
          "text": "loading...\ndone\n"
        }
      ],
      "execution_count": 3,
      "metadata": {
        "gather": {
          "logged": 1635996842281
        }
      }
    },
    {
      "cell_type": "markdown",
      "source": [
        "## Preprocessing - converting conditions into 'possibility maps'"
      ],
      "metadata": {}
    },
    {
      "cell_type": "code",
      "source": [
        "X_train.shape, Y_train.shape, X_test.shape, Y_test.shape"
      ],
      "outputs": [
        {
          "output_type": "execute_result",
          "execution_count": 4,
          "data": {
            "text/plain": "((60000, 2, 8), (60000, 8, 8), (10000, 2, 8), (10000, 8, 8))"
          },
          "metadata": {}
        }
      ],
      "execution_count": 4,
      "metadata": {
        "gather": {
          "logged": 1635996844772
        }
      }
    },
    {
      "cell_type": "code",
      "source": [
        "def searchcombinationsUtil(k, n):\n",
        "    \"\"\"\n",
        "    k: number of elements (>= 1)\n",
        "    n: total sum of elements\n",
        "    return all possible combinations of k numbers that add up to n, regarding its order\n",
        "    \"\"\"\n",
        "    # Recursive function\n",
        "    \n",
        "    if k == 1:\n",
        "        return [[n]]\n",
        "    else:\n",
        "        output = []\n",
        "        for i in range(0, n+1):\n",
        "            output += [[i]+items for items in searchcombinationsUtil(k-1, n-i)]\n",
        "        return output        "
      ],
      "outputs": [],
      "execution_count": 5,
      "metadata": {
        "gather": {
          "logged": 1635996846000
        }
      }
    },
    {
      "cell_type": "code",
      "source": [
        "def pixel_val_calculator(constraint, N):\n",
        "    \"\"\"\n",
        "    constraint: the condition(constraint) of a single row/column in a nonogram\n",
        "    N: the length of the width/height of the nonogram\n",
        "    returns a vector with length N, and each value of the vector is the possibility of the corresponding pixel to be colored\n",
        "    \"\"\"\n",
        "    total_colored = np.sum(constraint)\n",
        "\n",
        "    if(len(constraint) == 0):\n",
        "        return [0 for _ in range(N)]\n",
        "    else:\n",
        "        combinations = searchcombinationsUtil(k=int(len(constraint)+1), n= int(N-total_colored-len(constraint)+1))\n",
        "        output = []\n",
        "\n",
        "        for each_combination in combinations:\n",
        "            pixel_val = []\n",
        "            for idx, elements in enumerate(each_combination):\n",
        "                if (idx == 0) or (idx == len(constraint)):\n",
        "                    pixel_val += [0 for _ in range(elements)]\n",
        "                else:\n",
        "                    pixel_val += [0 for _ in range(elements+1)]\n",
        "                if idx != (len(constraint)):\n",
        "                    pixel_val += [1 for _ in range(constraint[idx])]\n",
        "            output.append(pixel_val)\n",
        "        \n",
        "        output = np.array(output, dtype = np.float64)\n",
        "        output = np.sum(output, axis = 0)\n",
        "        output/= len(combinations)\n",
        "\n",
        "        return output"
      ],
      "outputs": [],
      "execution_count": 6,
      "metadata": {
        "gather": {
          "logged": 1635996847151
        }
      }
    },
    {
      "cell_type": "code",
      "source": [
        "pixel_val_calculator([7, 1], 10)"
      ],
      "outputs": [
        {
          "output_type": "execute_result",
          "execution_count": 7,
          "data": {
            "text/plain": "array([0.66666667, 1.        , 1.        , 1.        , 1.        ,\n       1.        , 1.        , 0.33333333, 0.33333333, 0.66666667])"
          },
          "metadata": {}
        }
      ],
      "execution_count": 7,
      "metadata": {
        "gather": {
          "logged": 1635996848215
        }
      }
    },
    {
      "cell_type": "code",
      "source": [
        "def possibility_map_generator(X):\n",
        "    \"\"\"\n",
        "    X: (batch_size, 2, N) or (batch_size, 2, N, t) only if all constraints are composed of same number of blocks (=t)\n",
        "    (2, N): each nonogram puzzle\n",
        "    2 stands for each condition (row condition, column condition)\n",
        "    N stands for the number of pixels (Number of total constraints)\n",
        "    returns possibility_map: (batch_size, 2, N, N)\n",
        "    \"\"\"\n",
        "    assert X.ndim in [3, 4]\n",
        "    \n",
        "    if X.ndim == 3:\n",
        "        N = X.shape[-1]\n",
        "    if X.ndim == 4:\n",
        "        N = X.shape[-2]\n",
        "\n",
        "    possibility_map = []\n",
        "    for puzzles in tqdm(X):\n",
        "        row_condition = puzzles[0]\n",
        "        row_map = []\n",
        "        for constraints in row_condition:\n",
        "            row_map.append(pixel_val_calculator(constraint=constraints, N=N))\n",
        "        row_map = np.array(row_map)\n",
        "\n",
        "        column_condition = puzzles[1]\n",
        "        column_map = []\n",
        "        for constraints in column_condition:\n",
        "            column_map.append(pixel_val_calculator(constraint=constraints, N=N))\n",
        "        column_map = np.array(column_map)\n",
        "        column_map = column_map.T\n",
        "\n",
        "        possibility_map.append(np.array([row_map, column_map]))\n",
        "        \n",
        "    possibility_map = np.asarray(possibility_map)\n",
        "    return possibility_map"
      ],
      "outputs": [],
      "execution_count": 8,
      "metadata": {
        "gather": {
          "logged": 1635996849647
        }
      }
    },
    {
      "cell_type": "code",
      "source": [
        "a = np.array([[[2], [1]], [[1], [2]]])\n",
        "print(a.shape)\n",
        "possibility_map_generator(np.expand_dims(a,0))"
      ],
      "outputs": [
        {
          "output_type": "stream",
          "name": "stderr",
          "text": "\r  0%|          | 0/1 [00:00<?, ?it/s]\r100%|██████████| 1/1 [00:00<00:00, 3054.85it/s]\n"
        },
        {
          "output_type": "stream",
          "name": "stdout",
          "text": "(2, 2, 1)\n"
        },
        {
          "output_type": "execute_result",
          "execution_count": 9,
          "data": {
            "text/plain": "array([[[[1. , 1. ],\n         [0.5, 0.5]],\n\n        [[0.5, 1. ],\n         [0.5, 1. ]]]])"
          },
          "metadata": {}
        }
      ],
      "execution_count": 9,
      "metadata": {
        "gather": {
          "logged": 1635996850970
        }
      }
    },
    {
      "cell_type": "markdown",
      "source": [
        "## Neural Network"
      ],
      "metadata": {}
    },
    {
      "cell_type": "code",
      "source": [
        "class NN_Dataset(Dataset):\n",
        "\n",
        "    def __init__(self, X, X_mapped=None, y=None):\n",
        "\n",
        "        assert X.ndim in [3, 4]\n",
        "\n",
        "        if X.ndim == 3:\n",
        "            N = X.shape[-1]\n",
        "            self.X = np.array([[np.array([k + [0]*(N - len(k))for k in j]) for j in i] for i in X])\n",
        "        if X.ndim == 4:\n",
        "            N = X.shape[-2]\n",
        "\n",
        "\n",
        "        # pre-calculated possibility map if possible\n",
        "        if X_mapped is not None:\n",
        "            self.X_mapped = X_mapped\n",
        "        else:\n",
        "            self.X_mapped = possibility_map_generator(X)\n",
        "\n",
        "        self.y = y\n",
        "        \n",
        "    def __getitem__(self, idx):\n",
        "        inputs = np.array(self.X[idx])\n",
        "        mapped_inputs = np.array(self.X_mapped[idx], dtype = np.float64)\n",
        "        \n",
        "\n",
        "        if self.y is not None:    # Train\n",
        "            labels = self.y[idx]\n",
        "            labels = np.array(labels, dtype=np.float64)\n",
        "            return inputs, mapped_inputs, labels\n",
        "\n",
        "        else:                     # Test\n",
        "            return inputs, mapped_inputs\n",
        "    \n",
        "    def __len__(self):\n",
        "        return len(self.X)\n"
      ],
      "outputs": [],
      "execution_count": 10,
      "metadata": {
        "gather": {
          "logged": 1635996856411
        }
      }
    },
    {
      "cell_type": "code",
      "source": [
        "def get_loader(batch_size, shuffle, num_workers, X, X_mapped=None, y=None):\n",
        "    dataset = NN_Dataset(X, X_mapped, y)\n",
        "    data_loader = DataLoader(dataset, batch_size=batch_size, shuffle=shuffle,\n",
        "                            num_workers=num_workers)\n",
        "\n",
        "    print(f'length : {len(dataset)}')\n",
        "    return data_loader"
      ],
      "outputs": [],
      "execution_count": 11,
      "metadata": {
        "gather": {
          "logged": 1635996857633
        }
      }
    },
    {
      "cell_type": "markdown",
      "source": [
        "## Training"
      ],
      "metadata": {}
    },
    {
      "cell_type": "code",
      "source": [
        "device = torch.device('cuda' if torch.cuda.is_available() else 'cpu')"
      ],
      "outputs": [],
      "execution_count": 12,
      "metadata": {
        "gather": {
          "logged": 1635996860508
        }
      }
    },
    {
      "cell_type": "code",
      "source": [
        "def train(epochs, model, optimizer, train_loader, valid_loader, device):\n",
        "    start = time.time()\n",
        "\n",
        "    best_acc = 0\n",
        "    for epoch in range(1, epochs+1):\n",
        "\n",
        "        # Train\n",
        "        model.train()    \n",
        "        train_accuracies = []\n",
        "        train_losses = []\n",
        "        for i, (inputs, mapped_inputs, labels) in enumerate(tqdm(train_loader)):\n",
        "            \n",
        "            optimizer.zero_grad()\n",
        "            mapped_inputs = torch.tensor(mapped_inputs, device=device, dtype=torch.float32)\n",
        "            labels = torch.tensor(labels, device=device, dtype=torch.float32)\n",
        "            labels = torch.flatten(labels, start_dim = 1)\n",
        "            \n",
        "            preds = model(mapped_inputs)\n",
        "\n",
        "            loss = MSELoss()\n",
        "            l = loss(preds, labels)\n",
        "            \n",
        "            l.backward()\n",
        "            optimizer.step()\n",
        "\n",
        "            preds = preds.detach().cpu().numpy()\n",
        "            labels = labels.detach().cpu().numpy()\n",
        "\n",
        "            for idx, predictions in enumerate(preds):\n",
        "                total_colored = np.sum(np.array(inputs[idx][0]))\n",
        "                threshold = np.amin(nlargest(total_colored, predictions))\n",
        "                predictions = [1 if a >= threshold else 0 for a in predictions]\n",
        "                acc = accuracy_score(predictions, labels[idx])\n",
        "                train_accuracies.append(acc)\n",
        "            \n",
        "            \n",
        "            train_losses.append(l.item())\n",
        "        \n",
        "\n",
        "        # Validation\n",
        "        model.eval()\n",
        "        val_accuracies = []\n",
        "        val_losses = []\n",
        "        with torch.no_grad():\n",
        "            for inputs, mapped_inputs, labels in valid_loader:\n",
        "                \n",
        "                mapped_inputs = torch.tensor(mapped_inputs, device=device, dtype=torch.float32)\n",
        "                labels = torch.tensor(labels, device=device, dtype=torch.float32)\n",
        "                labels = torch.flatten(labels, start_dim = 1)\n",
        "\n",
        "                preds = model(mapped_inputs)\n",
        "\n",
        "                loss = MSELoss()\n",
        "                l = loss(preds, labels)\n",
        "                \n",
        "                val_losses.append(l.item())\n",
        "\n",
        "                preds = preds.detach().cpu().numpy()\n",
        "                labels = labels.detach().cpu().numpy()\n",
        "\n",
        "                for idx, predictions in enumerate(preds):\n",
        "                    total_colored = np.sum(np.array(inputs[idx][0]))\n",
        "                    threshold = np.amin(nlargest(total_colored, predictions))\n",
        "                    predictions = [1 if a >= threshold else 0 for a in predictions]\n",
        "                    acc = accuracy_score(predictions, labels[idx])\n",
        "                    val_accuracies.append(acc)\n",
        "            \n",
        "            val_losses.append(l.item())\n",
        "\n",
        "            \n",
        "        train_loss = np.mean(train_losses)\n",
        "        val_loss = np.mean(val_losses)\n",
        "        train_acc = np.mean(train_accuracies)\n",
        "        val_acc = np.mean(val_accuracies)\n",
        "\n",
        "        if best_acc < val_acc:\n",
        "            best_acc = val_acc\n",
        "            best_epoch = epoch\n",
        "            print('saving model...', flush = True)\n",
        "            torch.save(model.state_dict(), './weights/MLP.pth')\n",
        "            print('done')\n",
        "\n",
        "        print(f'Epoch:{epoch}  Train Loss:{train_loss:.3f} | Valid Loss:{val_loss:.3f}')\n",
        "        print(f'Train  Acc:{train_acc:.3f}')\n",
        "        print(f'Valid  Acc:{val_acc:.3f}')\n",
        "\n",
        "    end = time.time()\n",
        "    print(f'\\nEpoch Process Time: {(end-start)/60:.2f}Minute')\n",
        "    print(f'Best Epoch:{best_epoch}, Best Acc:{best_acc:.3f}')"
      ],
      "outputs": [],
      "execution_count": 19,
      "metadata": {
        "gather": {
          "logged": 1635997909047
        }
      }
    },
    {
      "cell_type": "code",
      "source": [
        "X_train_mapped = possibility_map_generator(X_train)\n",
        "X_test_mapped = possibility_map_generator(X_test)\n",
        "\n",
        "X_train, X_val, X_train_mapped, X_val_mapped, Y_train, Y_val = train_test_split(X_train, X_train_mapped, Y_train, test_size = 0.2, random_state = 42) "
      ],
      "outputs": [
        {
          "output_type": "stream",
          "name": "stderr",
          "text": "100%|██████████| 60000/60000 [01:33<00:00, 644.37it/s]\n100%|██████████| 10000/10000 [00:15<00:00, 634.87it/s]\n"
        }
      ],
      "execution_count": 15,
      "metadata": {
        "gather": {
          "logged": 1635996984960
        }
      }
    },
    {
      "cell_type": "code",
      "source": [
        "print(X_train.shape, X_val.shape, X_train_mapped.shape, X_val_mapped.shape, Y_train.shape, Y_val.shape)"
      ],
      "outputs": [
        {
          "output_type": "stream",
          "name": "stdout",
          "text": "(48000, 2, 8) (12000, 2, 8) (48000, 2, 8, 8) (12000, 2, 8, 8) (48000, 8, 8) (12000, 8, 8)\n"
        }
      ],
      "execution_count": 20,
      "metadata": {
        "gather": {
          "logged": 1635997910884
        }
      }
    },
    {
      "cell_type": "code",
      "source": [
        "train_loader = get_loader(batch_size=32, shuffle=True, num_workers=0, X = X_train, X_mapped=X_train_mapped, y = Y_train) \n",
        "valid_loader = get_loader(batch_size=32, shuffle=False, num_workers=0, X = X_val, X_mapped = X_val_mapped, y = Y_val) \n",
        "epochs = 100\n",
        "lr = 0.001\n",
        "\n",
        "num_pixels = X_train.shape[-2] if X_train.ndim is 4 else X_train.shape[-1]\n",
        "\n",
        "model = MLP_Network(num_pixels = num_pixels).to(device)\n",
        "optimizer = torch.optim.AdamW(params=model.parameters(), lr=lr)"
      ],
      "outputs": [
        {
          "output_type": "stream",
          "name": "stdout",
          "text": "length : 48000\nlength : 12000\n"
        }
      ],
      "execution_count": 21,
      "metadata": {
        "gather": {
          "logged": 1635997913348
        }
      }
    },
    {
      "cell_type": "code",
      "source": [
        "best_epoch, best_auprc, best_auc = train(epochs = epochs, model = model, optimizer = optimizer, train_loader = train_loader, \\\n",
        "                                         valid_loader = valid_loader, device = device)"
      ],
      "outputs": [
        {
          "output_type": "stream",
          "name": "stderr",
          "text": "  0%|          | 0/1500 [00:00<?, ?it/s]/anaconda/envs/azureml_py36/lib/python3.6/site-packages/ipykernel_launcher.py:14: UserWarning: To copy construct from a tensor, it is recommended to use sourceTensor.clone().detach() or sourceTensor.clone().detach().requires_grad_(True), rather than torch.tensor(sourceTensor).\n  \n/anaconda/envs/azureml_py36/lib/python3.6/site-packages/ipykernel_launcher.py:15: UserWarning: To copy construct from a tensor, it is recommended to use sourceTensor.clone().detach() or sourceTensor.clone().detach().requires_grad_(True), rather than torch.tensor(sourceTensor).\n  from ipykernel import kernelapp as app\n100%|██████████| 1500/1500 [00:20<00:00, 74.54it/s]\n/anaconda/envs/azureml_py36/lib/python3.6/site-packages/ipykernel_launcher.py:47: UserWarning: To copy construct from a tensor, it is recommended to use sourceTensor.clone().detach() or sourceTensor.clone().detach().requires_grad_(True), rather than torch.tensor(sourceTensor).\n/anaconda/envs/azureml_py36/lib/python3.6/site-packages/ipykernel_launcher.py:48: UserWarning: To copy construct from a tensor, it is recommended to use sourceTensor.clone().detach() or sourceTensor.clone().detach().requires_grad_(True), rather than torch.tensor(sourceTensor).\n"
        },
        {
          "output_type": "stream",
          "name": "stdout",
          "text": "saving model...\n"
        },
        {
          "output_type": "error",
          "ename": "FileNotFoundError",
          "evalue": "[Errno 2] No such file or directory: './weights/MLP.pth'",
          "traceback": [
            "\u001b[0;31m---------------------------------------------------------------------------\u001b[0m",
            "\u001b[0;31mFileNotFoundError\u001b[0m                         Traceback (most recent call last)",
            "\u001b[0;32m<ipython-input-22-432ca66233e2>\u001b[0m in \u001b[0;36m<module>\u001b[0;34m\u001b[0m\n\u001b[1;32m      1\u001b[0m best_epoch, best_auprc, best_auc = train(epochs = epochs, model = model, optimizer = optimizer, train_loader = train_loader, \\\n\u001b[0;32m----> 2\u001b[0;31m                                          valid_loader = valid_loader, device = device)\n\u001b[0m",
            "\u001b[0;32m<ipython-input-19-fc4bceaec342>\u001b[0m in \u001b[0;36mtrain\u001b[0;34m(epochs, model, optimizer, train_loader, valid_loader, device)\u001b[0m\n\u001b[1;32m     78\u001b[0m             \u001b[0mbest_epoch\u001b[0m \u001b[0;34m=\u001b[0m \u001b[0mepoch\u001b[0m\u001b[0;34m\u001b[0m\u001b[0;34m\u001b[0m\u001b[0m\n\u001b[1;32m     79\u001b[0m             \u001b[0mprint\u001b[0m\u001b[0;34m(\u001b[0m\u001b[0;34m'saving model...'\u001b[0m\u001b[0;34m,\u001b[0m \u001b[0mflush\u001b[0m \u001b[0;34m=\u001b[0m \u001b[0;32mTrue\u001b[0m\u001b[0;34m)\u001b[0m\u001b[0;34m\u001b[0m\u001b[0;34m\u001b[0m\u001b[0m\n\u001b[0;32m---> 80\u001b[0;31m             \u001b[0mtorch\u001b[0m\u001b[0;34m.\u001b[0m\u001b[0msave\u001b[0m\u001b[0;34m(\u001b[0m\u001b[0mmodel\u001b[0m\u001b[0;34m.\u001b[0m\u001b[0mstate_dict\u001b[0m\u001b[0;34m(\u001b[0m\u001b[0;34m)\u001b[0m\u001b[0;34m,\u001b[0m \u001b[0;34m'./weights/MLP.pth'\u001b[0m\u001b[0;34m)\u001b[0m\u001b[0;34m\u001b[0m\u001b[0;34m\u001b[0m\u001b[0m\n\u001b[0m\u001b[1;32m     81\u001b[0m             \u001b[0mprint\u001b[0m\u001b[0;34m(\u001b[0m\u001b[0;34m'done'\u001b[0m\u001b[0;34m)\u001b[0m\u001b[0;34m\u001b[0m\u001b[0;34m\u001b[0m\u001b[0m\n\u001b[1;32m     82\u001b[0m \u001b[0;34m\u001b[0m\u001b[0m\n",
            "\u001b[0;32m/anaconda/envs/azureml_py36/lib/python3.6/site-packages/torch/serialization.py\u001b[0m in \u001b[0;36msave\u001b[0;34m(obj, f, pickle_module, pickle_protocol, _use_new_zipfile_serialization)\u001b[0m\n\u001b[1;32m    359\u001b[0m     \u001b[0m_check_dill_version\u001b[0m\u001b[0;34m(\u001b[0m\u001b[0mpickle_module\u001b[0m\u001b[0;34m)\u001b[0m\u001b[0;34m\u001b[0m\u001b[0;34m\u001b[0m\u001b[0m\n\u001b[1;32m    360\u001b[0m \u001b[0;34m\u001b[0m\u001b[0m\n\u001b[0;32m--> 361\u001b[0;31m     \u001b[0;32mwith\u001b[0m \u001b[0m_open_file_like\u001b[0m\u001b[0;34m(\u001b[0m\u001b[0mf\u001b[0m\u001b[0;34m,\u001b[0m \u001b[0;34m'wb'\u001b[0m\u001b[0;34m)\u001b[0m \u001b[0;32mas\u001b[0m \u001b[0mopened_file\u001b[0m\u001b[0;34m:\u001b[0m\u001b[0;34m\u001b[0m\u001b[0;34m\u001b[0m\u001b[0m\n\u001b[0m\u001b[1;32m    362\u001b[0m         \u001b[0;32mif\u001b[0m \u001b[0m_use_new_zipfile_serialization\u001b[0m\u001b[0;34m:\u001b[0m\u001b[0;34m\u001b[0m\u001b[0;34m\u001b[0m\u001b[0m\n\u001b[1;32m    363\u001b[0m             \u001b[0;32mwith\u001b[0m \u001b[0m_open_zipfile_writer\u001b[0m\u001b[0;34m(\u001b[0m\u001b[0mopened_file\u001b[0m\u001b[0;34m)\u001b[0m \u001b[0;32mas\u001b[0m \u001b[0mopened_zipfile\u001b[0m\u001b[0;34m:\u001b[0m\u001b[0;34m\u001b[0m\u001b[0;34m\u001b[0m\u001b[0m\n",
            "\u001b[0;32m/anaconda/envs/azureml_py36/lib/python3.6/site-packages/torch/serialization.py\u001b[0m in \u001b[0;36m_open_file_like\u001b[0;34m(name_or_buffer, mode)\u001b[0m\n\u001b[1;32m    227\u001b[0m \u001b[0;32mdef\u001b[0m \u001b[0m_open_file_like\u001b[0m\u001b[0;34m(\u001b[0m\u001b[0mname_or_buffer\u001b[0m\u001b[0;34m,\u001b[0m \u001b[0mmode\u001b[0m\u001b[0;34m)\u001b[0m\u001b[0;34m:\u001b[0m\u001b[0;34m\u001b[0m\u001b[0;34m\u001b[0m\u001b[0m\n\u001b[1;32m    228\u001b[0m     \u001b[0;32mif\u001b[0m \u001b[0m_is_path\u001b[0m\u001b[0;34m(\u001b[0m\u001b[0mname_or_buffer\u001b[0m\u001b[0;34m)\u001b[0m\u001b[0;34m:\u001b[0m\u001b[0;34m\u001b[0m\u001b[0;34m\u001b[0m\u001b[0m\n\u001b[0;32m--> 229\u001b[0;31m         \u001b[0;32mreturn\u001b[0m \u001b[0m_open_file\u001b[0m\u001b[0;34m(\u001b[0m\u001b[0mname_or_buffer\u001b[0m\u001b[0;34m,\u001b[0m \u001b[0mmode\u001b[0m\u001b[0;34m)\u001b[0m\u001b[0;34m\u001b[0m\u001b[0;34m\u001b[0m\u001b[0m\n\u001b[0m\u001b[1;32m    230\u001b[0m     \u001b[0;32melse\u001b[0m\u001b[0;34m:\u001b[0m\u001b[0;34m\u001b[0m\u001b[0;34m\u001b[0m\u001b[0m\n\u001b[1;32m    231\u001b[0m         \u001b[0;32mif\u001b[0m \u001b[0;34m'w'\u001b[0m \u001b[0;32min\u001b[0m \u001b[0mmode\u001b[0m\u001b[0;34m:\u001b[0m\u001b[0;34m\u001b[0m\u001b[0;34m\u001b[0m\u001b[0m\n",
            "\u001b[0;32m/anaconda/envs/azureml_py36/lib/python3.6/site-packages/torch/serialization.py\u001b[0m in \u001b[0;36m__init__\u001b[0;34m(self, name, mode)\u001b[0m\n\u001b[1;32m    208\u001b[0m \u001b[0;32mclass\u001b[0m \u001b[0m_open_file\u001b[0m\u001b[0;34m(\u001b[0m\u001b[0m_opener\u001b[0m\u001b[0;34m)\u001b[0m\u001b[0;34m:\u001b[0m\u001b[0;34m\u001b[0m\u001b[0;34m\u001b[0m\u001b[0m\n\u001b[1;32m    209\u001b[0m     \u001b[0;32mdef\u001b[0m \u001b[0m__init__\u001b[0m\u001b[0;34m(\u001b[0m\u001b[0mself\u001b[0m\u001b[0;34m,\u001b[0m \u001b[0mname\u001b[0m\u001b[0;34m,\u001b[0m \u001b[0mmode\u001b[0m\u001b[0;34m)\u001b[0m\u001b[0;34m:\u001b[0m\u001b[0;34m\u001b[0m\u001b[0;34m\u001b[0m\u001b[0m\n\u001b[0;32m--> 210\u001b[0;31m         \u001b[0msuper\u001b[0m\u001b[0;34m(\u001b[0m\u001b[0m_open_file\u001b[0m\u001b[0;34m,\u001b[0m \u001b[0mself\u001b[0m\u001b[0;34m)\u001b[0m\u001b[0;34m.\u001b[0m\u001b[0m__init__\u001b[0m\u001b[0;34m(\u001b[0m\u001b[0mopen\u001b[0m\u001b[0;34m(\u001b[0m\u001b[0mname\u001b[0m\u001b[0;34m,\u001b[0m \u001b[0mmode\u001b[0m\u001b[0;34m)\u001b[0m\u001b[0;34m)\u001b[0m\u001b[0;34m\u001b[0m\u001b[0;34m\u001b[0m\u001b[0m\n\u001b[0m\u001b[1;32m    211\u001b[0m \u001b[0;34m\u001b[0m\u001b[0m\n\u001b[1;32m    212\u001b[0m     \u001b[0;32mdef\u001b[0m \u001b[0m__exit__\u001b[0m\u001b[0;34m(\u001b[0m\u001b[0mself\u001b[0m\u001b[0;34m,\u001b[0m \u001b[0;34m*\u001b[0m\u001b[0margs\u001b[0m\u001b[0;34m)\u001b[0m\u001b[0;34m:\u001b[0m\u001b[0;34m\u001b[0m\u001b[0;34m\u001b[0m\u001b[0m\n",
            "\u001b[0;31mFileNotFoundError\u001b[0m: [Errno 2] No such file or directory: './weights/MLP.pth'"
          ]
        }
      ],
      "execution_count": 22,
      "metadata": {}
    },
    {
      "cell_type": "markdown",
      "source": [
        "## Inference"
      ],
      "metadata": {}
    },
    {
      "cell_type": "code",
      "source": [
        "def inference(model, test_loader, device):\n",
        "    pred_list = []\n",
        "    label_list = []\n",
        "\n",
        "    model.eval()\n",
        "    with torch.no_grad():\n",
        "        for inputs in test_loader:\n",
        "            \n",
        "            inputs = torch.unsqueeze(inputs, 1)\n",
        "            inputs = torch.tensor(inputs, device=device, dtype=torch.float32)\n",
        "            \n",
        "            preds = model(inputs)\n",
        "            preds = preds.view(preds.nelement())\n",
        "            pred_list += (list(preds.detach().cpu().numpy()))\n",
        "\n",
        "        pred_list = np.array(pred_list)\n",
        "        \n",
        "    return pred_list"
      ],
      "outputs": [],
      "execution_count": null,
      "metadata": {}
    },
    {
      "cell_type": "code",
      "source": [
        "model = Network(init_channel = 1)\n",
        "model.load_state_dict(torch.load('./non_cardiac_weights/CNN_single_model.pth'))\n",
        "model = model.cuda()   # if cuda is available"
      ],
      "outputs": [],
      "execution_count": null,
      "metadata": {}
    },
    {
      "cell_type": "code",
      "source": [
        "test_loader = get_loader(batch_size=256, shuffle=False, num_workers=6, X = x_test, y = None) \n",
        "CNN_single_prediction = inference(model = model, test_loader = test_loader, device = device)"
      ],
      "outputs": [],
      "execution_count": null,
      "metadata": {}
    }
  ],
  "metadata": {
    "interpreter": {
      "hash": "845270aa2c885a888b45db3c1bae60d031e62d06b801817adb1ea555314d8774"
    },
    "kernelspec": {
      "name": "python3",
      "language": "python",
      "display_name": "Python 3"
    },
    "language_info": {
      "name": "python",
      "version": "3.6.9",
      "mimetype": "text/x-python",
      "codemirror_mode": {
        "name": "ipython",
        "version": 3
      },
      "pygments_lexer": "ipython3",
      "nbconvert_exporter": "python",
      "file_extension": ".py"
    },
    "orig_nbformat": 4,
    "kernel_info": {
      "name": "python3"
    },
    "nteract": {
      "version": "nteract-front-end@1.0.0"
    }
  },
  "nbformat": 4,
  "nbformat_minor": 2
}