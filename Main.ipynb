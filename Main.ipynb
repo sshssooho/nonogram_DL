{
  "cells": [
    {
      "cell_type": "markdown",
      "source": [
        "# Main Code"
      ],
      "metadata": {}
    },
    {
      "cell_type": "code",
      "source": [
        "import numpy as np\n",
        "from sklearn.model_selection import train_test_split\n",
        "from heapq import nlargest\n",
        "from sklearn.metrics import accuracy_score\n",
        "\n",
        "from tqdm import tqdm\n",
        "\n",
        "import time\n",
        "\n",
        "import torch\n",
        "import torch.nn as nn\n",
        "import torch.nn.functional as F\n",
        "# !pip install torch-optimizer\n",
        "import torch_optimizer as optim   \n",
        "from torch.utils.data import Dataset, DataLoader\n",
        "from torch.nn import MSELoss"
      ],
      "outputs": [],
      "execution_count": 1,
      "metadata": {
        "gather": {
          "logged": 1635996788277
        }
      }
    },
    {
      "cell_type": "code",
      "source": [
        "import import_ipynb\n",
        "import MLP\n",
        "from MLP import MLP_Network"
      ],
      "outputs": [
        {
          "output_type": "stream",
          "name": "stdout",
          "text": "importing Jupyter notebook from MLP.ipynb\n"
        }
      ],
      "execution_count": 2,
      "metadata": {
        "gather": {
          "logged": 1635996833300
        }
      }
    },
    {
      "cell_type": "markdown",
      "source": [
        "## Get Data"
      ],
      "metadata": {}
    },
    {
      "cell_type": "code",
      "source": [
        "print('loading...', flush = True)\n",
        "X_train = np.load('./data/X_train.npy', allow_pickle= True)  # X_train and X_test is pickled\n",
        "Y_train = np.load('./data/Y_train.npy')\n",
        "X_test = np.load('./data/X_test.npy', allow_pickle= True)\n",
        "Y_test = np.load('./data/Y_test.npy')\n",
        "print('done')"
      ],
      "outputs": [
        {
          "output_type": "stream",
          "name": "stdout",
          "text": "loading...\ndone\n"
        }
      ],
      "execution_count": 3,
      "metadata": {
        "gather": {
          "logged": 1635996842281
        }
      }
    },
    {
      "cell_type": "markdown",
      "source": [
        "## Preprocessing - converting conditions into 'possibility maps'"
      ],
      "metadata": {}
    },
    {
      "cell_type": "code",
      "source": [
        "X_train.shape, Y_train.shape, X_test.shape, Y_test.shape"
      ],
      "outputs": [
        {
          "output_type": "execute_result",
          "execution_count": 4,
          "data": {
            "text/plain": "((60000, 2, 8), (60000, 8, 8), (10000, 2, 8), (10000, 8, 8))"
          },
          "metadata": {}
        }
      ],
      "execution_count": 4,
      "metadata": {
        "gather": {
          "logged": 1635996844772
        }
      }
    },
    {
      "cell_type": "code",
      "source": [
        "def searchcombinationsUtil(k, n):\n",
        "    \"\"\"\n",
        "    k: number of elements (>= 1)\n",
        "    n: total sum of elements\n",
        "    return all possible combinations of k numbers that add up to n, regarding its order\n",
        "    \"\"\"\n",
        "    # Recursive function\n",
        "    \n",
        "    if k == 1:\n",
        "        return [[n]]\n",
        "    else:\n",
        "        output = []\n",
        "        for i in range(0, n+1):\n",
        "            output += [[i]+items for items in searchcombinationsUtil(k-1, n-i)]\n",
        "        return output        "
      ],
      "outputs": [],
      "execution_count": 5,
      "metadata": {
        "gather": {
          "logged": 1635996846000
        }
      }
    },
    {
      "cell_type": "code",
      "source": [
        "def pixel_val_calculator(constraint, N):\n",
        "    \"\"\"\n",
        "    constraint: the condition(constraint) of a single row/column in a nonogram\n",
        "    N: the length of the width/height of the nonogram\n",
        "    returns a vector with length N, and each value of the vector is the possibility of the corresponding pixel to be colored\n",
        "    \"\"\"\n",
        "    total_colored = np.sum(constraint)\n",
        "\n",
        "    if(len(constraint) == 0):\n",
        "        return [0 for _ in range(N)]\n",
        "    else:\n",
        "        combinations = searchcombinationsUtil(k=int(len(constraint)+1), n= int(N-total_colored-len(constraint)+1))\n",
        "        output = []\n",
        "\n",
        "        for each_combination in combinations:\n",
        "            pixel_val = []\n",
        "            for idx, elements in enumerate(each_combination):\n",
        "                if (idx == 0) or (idx == len(constraint)):\n",
        "                    pixel_val += [0 for _ in range(elements)]\n",
        "                else:\n",
        "                    pixel_val += [0 for _ in range(elements+1)]\n",
        "                if idx != (len(constraint)):\n",
        "                    pixel_val += [1 for _ in range(constraint[idx])]\n",
        "            output.append(pixel_val)\n",
        "        \n",
        "        output = np.array(output, dtype = np.float64)\n",
        "        output = np.sum(output, axis = 0)\n",
        "        output/= len(combinations)\n",
        "\n",
        "        return output"
      ],
      "outputs": [],
      "execution_count": 6,
      "metadata": {
        "gather": {
          "logged": 1635996847151
        }
      }
    },
    {
      "cell_type": "code",
      "source": [
        "pixel_val_calculator([7, 1], 10)"
      ],
      "outputs": [
        {
          "output_type": "execute_result",
          "execution_count": 7,
          "data": {
            "text/plain": "array([0.66666667, 1.        , 1.        , 1.        , 1.        ,\n       1.        , 1.        , 0.33333333, 0.33333333, 0.66666667])"
          },
          "metadata": {}
        }
      ],
      "execution_count": 7,
      "metadata": {
        "gather": {
          "logged": 1635996848215
        }
      }
    },
    {
      "cell_type": "code",
      "source": [
        "def possibility_map_generator(X):\n",
        "    \"\"\"\n",
        "    X: (batch_size, 2, N) or (batch_size, 2, N, t) only if all constraints are composed of same number of blocks (=t)\n",
        "    (2, N): each nonogram puzzle\n",
        "    2 stands for each condition (row condition, column condition)\n",
        "    N stands for the number of pixels (Number of total constraints)\n",
        "    returns possibility_map: (batch_size, 2, N, N)\n",
        "    \"\"\"\n",
        "    assert X.ndim in [3, 4]\n",
        "    \n",
        "    if X.ndim == 3:\n",
        "        N = X.shape[-1]\n",
        "    if X.ndim == 4:\n",
        "        N = X.shape[-2]\n",
        "\n",
        "    possibility_map = []\n",
        "    for puzzles in tqdm(X):\n",
        "        row_condition = puzzles[0]\n",
        "        row_map = []\n",
        "        for constraints in row_condition:\n",
        "            row_map.append(pixel_val_calculator(constraint=constraints, N=N))\n",
        "        row_map = np.array(row_map)\n",
        "\n",
        "        column_condition = puzzles[1]\n",
        "        column_map = []\n",
        "        for constraints in column_condition:\n",
        "            column_map.append(pixel_val_calculator(constraint=constraints, N=N))\n",
        "        column_map = np.array(column_map)\n",
        "        column_map = column_map.T\n",
        "\n",
        "        possibility_map.append(np.array([row_map, column_map]))\n",
        "        \n",
        "    possibility_map = np.asarray(possibility_map)\n",
        "    return possibility_map"
      ],
      "outputs": [],
      "execution_count": 8,
      "metadata": {
        "gather": {
          "logged": 1635996849647
        }
      }
    },
    {
      "cell_type": "code",
      "source": [
        "a = np.array([[[2], [1]], [[1], [2]]])\n",
        "print(a.shape)\n",
        "possibility_map_generator(np.expand_dims(a,0))"
      ],
      "outputs": [
        {
          "output_type": "stream",
          "name": "stderr",
          "text": "\r  0%|          | 0/1 [00:00<?, ?it/s]\r100%|██████████| 1/1 [00:00<00:00, 3054.85it/s]\n"
        },
        {
          "output_type": "stream",
          "name": "stdout",
          "text": "(2, 2, 1)\n"
        },
        {
          "output_type": "execute_result",
          "execution_count": 9,
          "data": {
            "text/plain": "array([[[[1. , 1. ],\n         [0.5, 0.5]],\n\n        [[0.5, 1. ],\n         [0.5, 1. ]]]])"
          },
          "metadata": {}
        }
      ],
      "execution_count": 9,
      "metadata": {
        "gather": {
          "logged": 1635996850970
        }
      }
    },
    {
      "cell_type": "markdown",
      "source": [
        "## Neural Network"
      ],
      "metadata": {}
    },
    {
      "cell_type": "code",
      "source": [
        "class NN_Dataset(Dataset):\n",
        "\n",
        "    def __init__(self, X, X_mapped=None, y=None):\n",
        "\n",
        "        assert X.ndim in [3, 4]\n",
        "\n",
        "        if X.ndim == 3:\n",
        "            N = X.shape[-1]\n",
        "            self.X = np.array([[np.array([k + [0]*(N - len(k))for k in j]) for j in i] for i in X])\n",
        "        if X.ndim == 4:\n",
        "            N = X.shape[-2]\n",
        "\n",
        "\n",
        "        # pre-calculated possibility map if possible\n",
        "        if X_mapped is not None:\n",
        "            self.X_mapped = X_mapped\n",
        "        else:\n",
        "            self.X_mapped = possibility_map_generator(X)\n",
        "\n",
        "        self.y = y\n",
        "        \n",
        "    def __getitem__(self, idx):\n",
        "        inputs = np.array(self.X[idx])\n",
        "        mapped_inputs = np.array(self.X_mapped[idx], dtype = np.float64)\n",
        "        \n",
        "\n",
        "        if self.y is not None:    # Train\n",
        "            labels = self.y[idx]\n",
        "            labels = np.array(labels, dtype=np.float64)\n",
        "            return inputs, mapped_inputs, labels\n",
        "\n",
        "        else:                     # Test\n",
        "            return inputs, mapped_inputs\n",
        "    \n",
        "    def __len__(self):\n",
        "        return len(self.X)\n"
      ],
      "outputs": [],
      "execution_count": 10,
      "metadata": {
        "gather": {
          "logged": 1635996856411
        }
      }
    },
    {
      "cell_type": "code",
      "source": [
        "def get_loader(batch_size, shuffle, num_workers, X, X_mapped=None, y=None):\n",
        "    dataset = NN_Dataset(X, X_mapped, y)\n",
        "    data_loader = DataLoader(dataset, batch_size=batch_size, shuffle=shuffle,\n",
        "                            num_workers=num_workers)\n",
        "\n",
        "    print(f'length : {len(dataset)}')\n",
        "    return data_loader"
      ],
      "outputs": [],
      "execution_count": 11,
      "metadata": {
        "gather": {
          "logged": 1635996857633
        }
      }
    },
    {
      "cell_type": "markdown",
      "source": [
        "## Training"
      ],
      "metadata": {}
    },
    {
      "cell_type": "code",
      "source": [
        "device = torch.device('cuda' if torch.cuda.is_available() else 'cpu')"
      ],
      "outputs": [],
      "execution_count": 23,
      "metadata": {
        "gather": {
          "logged": 1635998055054
        }
      }
    },
    {
      "cell_type": "code",
      "source": [
        "def train(epochs, model, optimizer, train_loader, valid_loader, device):\n",
        "    start = time.time()\n",
        "\n",
        "    best_acc = 0\n",
        "    for epoch in range(1, epochs+1):\n",
        "\n",
        "        # Train\n",
        "        model.train()    \n",
        "        train_accuracies = []\n",
        "        train_losses = []\n",
        "        for i, (inputs, mapped_inputs, labels) in enumerate(tqdm(train_loader)):\n",
        "            \n",
        "            optimizer.zero_grad()\n",
        "            mapped_inputs = torch.tensor(mapped_inputs, device=device, dtype=torch.float32)\n",
        "            labels = torch.tensor(labels, device=device, dtype=torch.float32)\n",
        "            labels = torch.flatten(labels, start_dim = 1)\n",
        "            \n",
        "            preds = model(mapped_inputs)\n",
        "\n",
        "            loss = MSELoss()\n",
        "            l = loss(preds, labels)\n",
        "            \n",
        "            l.backward()\n",
        "            optimizer.step()\n",
        "\n",
        "            preds = preds.detach().cpu().numpy()\n",
        "            labels = labels.detach().cpu().numpy()\n",
        "\n",
        "            for idx, predictions in enumerate(preds):\n",
        "                total_colored = np.sum(np.array(inputs[idx][0]))\n",
        "                threshold = np.amin(nlargest(total_colored, predictions))\n",
        "                predictions = [1 if a >= threshold else 0 for a in predictions]\n",
        "                acc = accuracy_score(predictions, labels[idx])\n",
        "                train_accuracies.append(acc)\n",
        "            \n",
        "            \n",
        "            train_losses.append(l.item())\n",
        "        \n",
        "\n",
        "        # Validation\n",
        "        model.eval()\n",
        "        val_accuracies = []\n",
        "        val_losses = []\n",
        "        with torch.no_grad():\n",
        "            for inputs, mapped_inputs, labels in valid_loader:\n",
        "                \n",
        "                mapped_inputs = torch.tensor(mapped_inputs, device=device, dtype=torch.float32)\n",
        "                labels = torch.tensor(labels, device=device, dtype=torch.float32)\n",
        "                labels = torch.flatten(labels, start_dim = 1)\n",
        "\n",
        "                preds = model(mapped_inputs)\n",
        "\n",
        "                loss = MSELoss()\n",
        "                l = loss(preds, labels)\n",
        "                \n",
        "                val_losses.append(l.item())\n",
        "\n",
        "                preds = preds.detach().cpu().numpy()\n",
        "                labels = labels.detach().cpu().numpy()\n",
        "\n",
        "                for idx, predictions in enumerate(preds):\n",
        "                    total_colored = np.sum(np.array(inputs[idx][0]))\n",
        "                    threshold = np.amin(nlargest(total_colored, predictions))\n",
        "                    predictions = [1 if a >= threshold else 0 for a in predictions]\n",
        "                    acc = accuracy_score(predictions, labels[idx])\n",
        "                    val_accuracies.append(acc)\n",
        "            \n",
        "            val_losses.append(l.item())\n",
        "\n",
        "            \n",
        "        train_loss = np.mean(train_losses)\n",
        "        val_loss = np.mean(val_losses)\n",
        "        train_acc = np.mean(train_accuracies)\n",
        "        val_acc = np.mean(val_accuracies)\n",
        "\n",
        "        if best_acc < val_acc:\n",
        "            best_acc = val_acc\n",
        "            best_epoch = epoch\n",
        "            print('saving model...', flush = True)\n",
        "            torch.save(model.state_dict(), './weights/MLP.pth')\n",
        "            print('done')\n",
        "\n",
        "        print(f'Epoch:{epoch}  Train Loss:{train_loss:.3f} | Valid Loss:{val_loss:.3f}')\n",
        "        print(f'Train  Acc:{train_acc:.3f}')\n",
        "        print(f'Valid  Acc:{val_acc:.3f}')\n",
        "\n",
        "    end = time.time()\n",
        "    print(f'\\nEpoch Process Time: {(end-start)/60:.2f}Minute')\n",
        "    print(f'Best Epoch:{best_epoch}, Best Acc:{best_acc:.3f}')"
      ],
      "outputs": [],
      "execution_count": 24,
      "metadata": {
        "gather": {
          "logged": 1635998055346
        }
      }
    },
    {
      "cell_type": "code",
      "source": [
        "X_train_mapped = possibility_map_generator(X_train)\n",
        "X_test_mapped = possibility_map_generator(X_test)\n",
        "\n",
        "X_train, X_val, X_train_mapped, X_val_mapped, Y_train, Y_val = train_test_split(X_train, X_train_mapped, Y_train, test_size = 0.2, random_state = 42) "
      ],
      "outputs": [
        {
          "output_type": "stream",
          "name": "stderr",
          "text": "100%|██████████| 60000/60000 [01:33<00:00, 644.37it/s]\n100%|██████████| 10000/10000 [00:15<00:00, 634.87it/s]\n"
        }
      ],
      "execution_count": 15,
      "metadata": {
        "gather": {
          "logged": 1635996984960
        }
      }
    },
    {
      "cell_type": "code",
      "source": [
        "print(X_train.shape, X_val.shape, X_train_mapped.shape, X_val_mapped.shape, Y_train.shape, Y_val.shape)"
      ],
      "outputs": [
        {
          "output_type": "stream",
          "name": "stdout",
          "text": "(48000, 2, 8) (12000, 2, 8) (48000, 2, 8, 8) (12000, 2, 8, 8) (48000, 8, 8) (12000, 8, 8)\n"
        }
      ],
      "execution_count": 25,
      "metadata": {
        "gather": {
          "logged": 1635998058064
        }
      }
    },
    {
      "cell_type": "code",
      "source": [
        "train_loader = get_loader(batch_size=128, shuffle=True, num_workers=6, X = X_train, X_mapped=X_train_mapped, y = Y_train) \n",
        "valid_loader = get_loader(batch_size=128, shuffle=False, num_workers=6, X = X_val, X_mapped = X_val_mapped, y = Y_val) \n",
        "epochs = 100\n",
        "lr = 0.001\n",
        "\n",
        "num_pixels = X_train.shape[-2] if X_train.ndim is 4 else X_train.shape[-1]\n",
        "\n",
        "model = MLP_Network(num_pixels = num_pixels).to(device)\n",
        "optimizer = torch.optim.AdamW(params=model.parameters(), lr=lr)"
      ],
      "outputs": [
        {
          "output_type": "stream",
          "name": "stdout",
          "text": "length : 48000\nlength : 12000\n"
        }
      ],
      "execution_count": 26,
      "metadata": {
        "gather": {
          "logged": 1635998062591
        }
      }
    },
    {
      "cell_type": "code",
      "source": [
        "best_epoch, best_auprc, best_auc = train(epochs = epochs, model = model, optimizer = optimizer, train_loader = train_loader, \\\n",
        "                                         valid_loader = valid_loader, device = device)"
      ],
      "outputs": [
        {
          "output_type": "stream",
          "name": "stderr",
          "text": "  0%|          | 0/1500 [00:00<?, ?it/s]/anaconda/envs/azureml_py36/lib/python3.6/site-packages/ipykernel_launcher.py:14: UserWarning: To copy construct from a tensor, it is recommended to use sourceTensor.clone().detach() or sourceTensor.clone().detach().requires_grad_(True), rather than torch.tensor(sourceTensor).\n  \n/anaconda/envs/azureml_py36/lib/python3.6/site-packages/ipykernel_launcher.py:15: UserWarning: To copy construct from a tensor, it is recommended to use sourceTensor.clone().detach() or sourceTensor.clone().detach().requires_grad_(True), rather than torch.tensor(sourceTensor).\n  from ipykernel import kernelapp as app\n100%|██████████| 1500/1500 [00:20<00:00, 74.73it/s]\n/anaconda/envs/azureml_py36/lib/python3.6/site-packages/ipykernel_launcher.py:47: UserWarning: To copy construct from a tensor, it is recommended to use sourceTensor.clone().detach() or sourceTensor.clone().detach().requires_grad_(True), rather than torch.tensor(sourceTensor).\n/anaconda/envs/azureml_py36/lib/python3.6/site-packages/ipykernel_launcher.py:48: UserWarning: To copy construct from a tensor, it is recommended to use sourceTensor.clone().detach() or sourceTensor.clone().detach().requires_grad_(True), rather than torch.tensor(sourceTensor).\n100%|██████████| 1500/1500 [00:19<00:00, 75.18it/s]\n100%|██████████| 1500/1500 [00:20<00:00, 74.53it/s]\n100%|██████████| 1500/1500 [00:19<00:00, 75.39it/s]\n100%|██████████| 1500/1500 [00:19<00:00, 75.42it/s]\n100%|██████████| 1500/1500 [00:19<00:00, 75.33it/s]\n100%|██████████| 1500/1500 [00:19<00:00, 75.20it/s]\n100%|██████████| 1500/1500 [00:20<00:00, 74.39it/s]\n100%|██████████| 1500/1500 [00:20<00:00, 74.81it/s]\n100%|██████████| 1500/1500 [00:19<00:00, 75.18it/s]\n100%|██████████| 1500/1500 [00:19<00:00, 75.26it/s]\n100%|██████████| 1500/1500 [00:19<00:00, 75.34it/s]\n100%|██████████| 1500/1500 [00:20<00:00, 74.43it/s]\n100%|██████████| 1500/1500 [00:19<00:00, 75.76it/s]\n100%|██████████| 1500/1500 [00:20<00:00, 74.44it/s]\n100%|██████████| 1500/1500 [00:20<00:00, 74.00it/s]\n100%|██████████| 1500/1500 [00:20<00:00, 74.17it/s]\n100%|██████████| 1500/1500 [00:20<00:00, 73.86it/s]\n100%|██████████| 1500/1500 [00:20<00:00, 74.42it/s]\n100%|██████████| 1500/1500 [00:20<00:00, 74.32it/s]\n100%|██████████| 1500/1500 [00:20<00:00, 74.70it/s]\n100%|██████████| 1500/1500 [00:19<00:00, 75.03it/s]\n100%|██████████| 1500/1500 [00:19<00:00, 75.31it/s]\n100%|██████████| 1500/1500 [00:19<00:00, 75.39it/s]\n100%|██████████| 1500/1500 [00:19<00:00, 75.27it/s]\n100%|██████████| 1500/1500 [00:19<00:00, 75.49it/s]\n100%|██████████| 1500/1500 [00:19<00:00, 75.06it/s]\n100%|██████████| 1500/1500 [00:20<00:00, 74.39it/s]\n100%|██████████| 1500/1500 [00:19<00:00, 76.04it/s]\n100%|██████████| 1500/1500 [00:19<00:00, 75.65it/s]\n100%|██████████| 1500/1500 [00:19<00:00, 75.80it/s]\n100%|██████████| 1500/1500 [00:19<00:00, 76.09it/s]\n100%|██████████| 1500/1500 [00:19<00:00, 75.46it/s]\n100%|██████████| 1500/1500 [00:19<00:00, 75.66it/s]\n100%|██████████| 1500/1500 [00:19<00:00, 75.77it/s]\n100%|██████████| 1500/1500 [00:19<00:00, 75.66it/s]\n100%|██████████| 1500/1500 [00:19<00:00, 75.85it/s]\n100%|██████████| 1500/1500 [00:19<00:00, 75.92it/s]\n100%|██████████| 1500/1500 [00:19<00:00, 76.00it/s]\n100%|██████████| 1500/1500 [00:19<00:00, 75.49it/s]\n100%|██████████| 1500/1500 [00:19<00:00, 75.56it/s]\n100%|██████████| 1500/1500 [00:19<00:00, 75.55it/s]\n100%|██████████| 1500/1500 [00:19<00:00, 75.76it/s]\n100%|██████████| 1500/1500 [00:19<00:00, 75.66it/s]\n100%|██████████| 1500/1500 [00:20<00:00, 74.89it/s]\n100%|██████████| 1500/1500 [00:20<00:00, 73.71it/s]\n100%|██████████| 1500/1500 [00:19<00:00, 75.29it/s]\n100%|██████████| 1500/1500 [00:19<00:00, 75.44it/s]\n100%|██████████| 1500/1500 [00:19<00:00, 75.76it/s]\n100%|██████████| 1500/1500 [00:19<00:00, 75.48it/s]\n100%|██████████| 1500/1500 [00:20<00:00, 74.54it/s]\n100%|██████████| 1500/1500 [00:19<00:00, 75.57it/s]\n100%|██████████| 1500/1500 [00:19<00:00, 75.02it/s]\n100%|██████████| 1500/1500 [00:20<00:00, 72.59it/s]\n100%|██████████| 1500/1500 [00:20<00:00, 73.94it/s]\n100%|██████████| 1500/1500 [00:19<00:00, 75.50it/s]\n100%|██████████| 1500/1500 [00:20<00:00, 73.82it/s]\n100%|██████████| 1500/1500 [00:19<00:00, 75.36it/s]\n100%|██████████| 1500/1500 [00:20<00:00, 74.59it/s]\n100%|██████████| 1500/1500 [00:20<00:00, 72.55it/s]\n100%|██████████| 1500/1500 [00:19<00:00, 75.58it/s]\n100%|██████████| 1500/1500 [00:19<00:00, 75.67it/s]\n100%|██████████| 1500/1500 [00:19<00:00, 75.67it/s]\n100%|██████████| 1500/1500 [00:19<00:00, 75.72it/s]\n100%|██████████| 1500/1500 [00:19<00:00, 75.87it/s]\n100%|██████████| 1500/1500 [00:19<00:00, 75.70it/s]\n100%|██████████| 1500/1500 [00:19<00:00, 75.37it/s]\n100%|██████████| 1500/1500 [00:19<00:00, 75.40it/s]\n100%|██████████| 1500/1500 [00:19<00:00, 75.73it/s]\n100%|██████████| 1500/1500 [00:19<00:00, 75.99it/s]\n100%|██████████| 1500/1500 [00:19<00:00, 76.20it/s]\n100%|██████████| 1500/1500 [00:19<00:00, 75.79it/s]\n100%|██████████| 1500/1500 [00:19<00:00, 75.64it/s]\n100%|██████████| 1500/1500 [00:19<00:00, 75.82it/s]\n100%|██████████| 1500/1500 [00:19<00:00, 75.82it/s]\n100%|██████████| 1500/1500 [00:19<00:00, 76.25it/s]\n100%|██████████| 1500/1500 [00:19<00:00, 76.26it/s]\n100%|██████████| 1500/1500 [00:19<00:00, 75.59it/s]\n100%|██████████| 1500/1500 [00:19<00:00, 75.79it/s]\n100%|██████████| 1500/1500 [00:19<00:00, 75.69it/s]\n100%|██████████| 1500/1500 [00:19<00:00, 75.43it/s]\n100%|██████████| 1500/1500 [00:19<00:00, 75.38it/s]\n100%|██████████| 1500/1500 [00:19<00:00, 75.51it/s]\n100%|██████████| 1500/1500 [00:19<00:00, 75.71it/s]\n100%|██████████| 1500/1500 [00:19<00:00, 75.73it/s]\n100%|██████████| 1500/1500 [00:19<00:00, 75.53it/s]\n100%|██████████| 1500/1500 [00:19<00:00, 75.59it/s]\n100%|██████████| 1500/1500 [00:19<00:00, 75.87it/s]\n100%|██████████| 1500/1500 [00:19<00:00, 75.83it/s]\n100%|██████████| 1500/1500 [00:19<00:00, 75.37it/s]\n100%|██████████| 1500/1500 [00:19<00:00, 75.55it/s]\n100%|██████████| 1500/1500 [00:19<00:00, 75.65it/s]\n100%|██████████| 1500/1500 [00:19<00:00, 75.81it/s]\n100%|██████████| 1500/1500 [00:19<00:00, 75.75it/s]\n100%|██████████| 1500/1500 [00:20<00:00, 74.97it/s]\n100%|██████████| 1500/1500 [00:19<00:00, 75.86it/s]\n100%|██████████| 1500/1500 [00:19<00:00, 76.27it/s]\n100%|██████████| 1500/1500 [00:19<00:00, 75.69it/s]\n100%|██████████| 1500/1500 [00:19<00:00, 75.53it/s]\n100%|██████████| 1500/1500 [00:19<00:00, 76.06it/s]\n"
        },
        {
          "output_type": "stream",
          "name": "stdout",
          "text": "saving model...\ndone\nEpoch:1  Train Loss:0.183 | Valid Loss:0.161\nTrain  Acc:0.718\nValid  Acc:0.758\nsaving model...\ndone\nEpoch:2  Train Loss:0.173 | Valid Loss:0.157\nTrain  Acc:0.736\nValid  Acc:0.764\nsaving model...\ndone\nEpoch:3  Train Loss:0.171 | Valid Loss:0.156\nTrain  Acc:0.739\nValid  Acc:0.767\nsaving model...\ndone\nEpoch:4  Train Loss:0.170 | Valid Loss:0.154\nTrain  Acc:0.740\nValid  Acc:0.769\nsaving model...\ndone\nEpoch:5  Train Loss:0.170 | Valid Loss:0.154\nTrain  Acc:0.742\nValid  Acc:0.770\nsaving model...\ndone\nEpoch:6  Train Loss:0.169 | Valid Loss:0.153\nTrain  Acc:0.742\nValid  Acc:0.772\nsaving model...\ndone\nEpoch:7  Train Loss:0.169 | Valid Loss:0.152\nTrain  Acc:0.743\nValid  Acc:0.772\nsaving model...\ndone\nEpoch:8  Train Loss:0.168 | Valid Loss:0.152\nTrain  Acc:0.744\nValid  Acc:0.773\nsaving model...\ndone\nEpoch:9  Train Loss:0.168 | Valid Loss:0.152\nTrain  Acc:0.744\nValid  Acc:0.774\nsaving model...\ndone\nEpoch:10  Train Loss:0.168 | Valid Loss:0.151\nTrain  Acc:0.745\nValid  Acc:0.774\nsaving model...\ndone\nEpoch:11  Train Loss:0.168 | Valid Loss:0.151\nTrain  Acc:0.745\nValid  Acc:0.775\nEpoch:12  Train Loss:0.167 | Valid Loss:0.151\nTrain  Acc:0.746\nValid  Acc:0.774\nsaving model...\ndone\nEpoch:13  Train Loss:0.167 | Valid Loss:0.150\nTrain  Acc:0.746\nValid  Acc:0.776\nsaving model...\ndone\nEpoch:14  Train Loss:0.167 | Valid Loss:0.150\nTrain  Acc:0.747\nValid  Acc:0.776\nsaving model...\ndone\nEpoch:15  Train Loss:0.167 | Valid Loss:0.149\nTrain  Acc:0.747\nValid  Acc:0.778\nsaving model...\ndone\nEpoch:16  Train Loss:0.166 | Valid Loss:0.148\nTrain  Acc:0.747\nValid  Acc:0.778\nEpoch:17  Train Loss:0.166 | Valid Loss:0.149\nTrain  Acc:0.748\nValid  Acc:0.778\nEpoch:18  Train Loss:0.166 | Valid Loss:0.149\nTrain  Acc:0.748\nValid  Acc:0.778\nsaving model...\ndone\nEpoch:19  Train Loss:0.166 | Valid Loss:0.148\nTrain  Acc:0.749\nValid  Acc:0.779\nsaving model...\ndone\nEpoch:20  Train Loss:0.165 | Valid Loss:0.148\nTrain  Acc:0.749\nValid  Acc:0.780\nsaving model...\ndone\nEpoch:21  Train Loss:0.165 | Valid Loss:0.147\nTrain  Acc:0.750\nValid  Acc:0.781\nsaving model...\ndone\nEpoch:22  Train Loss:0.165 | Valid Loss:0.147\nTrain  Acc:0.750\nValid  Acc:0.781\nEpoch:23  Train Loss:0.165 | Valid Loss:0.147\nTrain  Acc:0.751\nValid  Acc:0.781\nsaving model...\ndone\nEpoch:24  Train Loss:0.165 | Valid Loss:0.147\nTrain  Acc:0.750\nValid  Acc:0.781\nsaving model...\ndone\nEpoch:25  Train Loss:0.164 | Valid Loss:0.146\nTrain  Acc:0.751\nValid  Acc:0.782\nsaving model...\ndone\nEpoch:26  Train Loss:0.164 | Valid Loss:0.146\nTrain  Acc:0.751\nValid  Acc:0.783\nEpoch:27  Train Loss:0.164 | Valid Loss:0.146\nTrain  Acc:0.752\nValid  Acc:0.782\nEpoch:28  Train Loss:0.164 | Valid Loss:0.146\nTrain  Acc:0.752\nValid  Acc:0.782\nsaving model...\ndone\nEpoch:29  Train Loss:0.164 | Valid Loss:0.146\nTrain  Acc:0.752\nValid  Acc:0.784\nsaving model...\ndone\nEpoch:30  Train Loss:0.164 | Valid Loss:0.145\nTrain  Acc:0.752\nValid  Acc:0.784\nEpoch:31  Train Loss:0.164 | Valid Loss:0.146\nTrain  Acc:0.752\nValid  Acc:0.783\nEpoch:32  Train Loss:0.164 | Valid Loss:0.146\nTrain  Acc:0.753\nValid  Acc:0.783\nEpoch:33  Train Loss:0.164 | Valid Loss:0.146\nTrain  Acc:0.752\nValid  Acc:0.783\nsaving model...\ndone\nEpoch:34  Train Loss:0.163 | Valid Loss:0.145\nTrain  Acc:0.753\nValid  Acc:0.784\nEpoch:35  Train Loss:0.164 | Valid Loss:0.146\nTrain  Acc:0.753\nValid  Acc:0.783\nsaving model...\ndone\nEpoch:36  Train Loss:0.163 | Valid Loss:0.145\nTrain  Acc:0.753\nValid  Acc:0.785\nsaving model...\ndone\nEpoch:37  Train Loss:0.163 | Valid Loss:0.145\nTrain  Acc:0.753\nValid  Acc:0.785\nsaving model...\ndone\nEpoch:38  Train Loss:0.163 | Valid Loss:0.144\nTrain  Acc:0.753\nValid  Acc:0.785\nEpoch:39  Train Loss:0.163 | Valid Loss:0.145\nTrain  Acc:0.753\nValid  Acc:0.784\nsaving model...\ndone\nEpoch:40  Train Loss:0.163 | Valid Loss:0.144\nTrain  Acc:0.753\nValid  Acc:0.785\nsaving model...\ndone\nEpoch:41  Train Loss:0.163 | Valid Loss:0.144\nTrain  Acc:0.753\nValid  Acc:0.785\nsaving model...\ndone\nEpoch:42  Train Loss:0.163 | Valid Loss:0.144\nTrain  Acc:0.754\nValid  Acc:0.786\nsaving model...\ndone\nEpoch:43  Train Loss:0.163 | Valid Loss:0.144\nTrain  Acc:0.754\nValid  Acc:0.786\nEpoch:44  Train Loss:0.163 | Valid Loss:0.144\nTrain  Acc:0.754\nValid  Acc:0.785\nEpoch:45  Train Loss:0.163 | Valid Loss:0.144\nTrain  Acc:0.754\nValid  Acc:0.785\nsaving model...\ndone\nEpoch:46  Train Loss:0.163 | Valid Loss:0.144\nTrain  Acc:0.754\nValid  Acc:0.786\nsaving model...\ndone\nEpoch:47  Train Loss:0.163 | Valid Loss:0.143\nTrain  Acc:0.754\nValid  Acc:0.786\nEpoch:48  Train Loss:0.163 | Valid Loss:0.144\nTrain  Acc:0.754\nValid  Acc:0.785\nEpoch:49  Train Loss:0.163 | Valid Loss:0.144\nTrain  Acc:0.754\nValid  Acc:0.786\nEpoch:50  Train Loss:0.163 | Valid Loss:0.144\nTrain  Acc:0.754\nValid  Acc:0.785\nsaving model...\ndone\nEpoch:51  Train Loss:0.162 | Valid Loss:0.143\nTrain  Acc:0.755\nValid  Acc:0.787\nEpoch:52  Train Loss:0.163 | Valid Loss:0.144\nTrain  Acc:0.754\nValid  Acc:0.786\nEpoch:53  Train Loss:0.162 | Valid Loss:0.144\nTrain  Acc:0.755\nValid  Acc:0.786\nEpoch:54  Train Loss:0.162 | Valid Loss:0.144\nTrain  Acc:0.754\nValid  Acc:0.786\nEpoch:55  Train Loss:0.162 | Valid Loss:0.144\nTrain  Acc:0.755\nValid  Acc:0.786\nsaving model...\ndone\nEpoch:56  Train Loss:0.162 | Valid Loss:0.143\nTrain  Acc:0.755\nValid  Acc:0.787\nEpoch:57  Train Loss:0.162 | Valid Loss:0.144\nTrain  Acc:0.755\nValid  Acc:0.786\nEpoch:58  Train Loss:0.162 | Valid Loss:0.143\nTrain  Acc:0.755\nValid  Acc:0.787\nEpoch:59  Train Loss:0.162 | Valid Loss:0.143\nTrain  Acc:0.755\nValid  Acc:0.787\nEpoch:60  Train Loss:0.162 | Valid Loss:0.143\nTrain  Acc:0.756\nValid  Acc:0.787\nsaving model...\ndone\nEpoch:61  Train Loss:0.162 | Valid Loss:0.143\nTrain  Acc:0.755\nValid  Acc:0.788\nEpoch:62  Train Loss:0.162 | Valid Loss:0.142\nTrain  Acc:0.756\nValid  Acc:0.787\nEpoch:63  Train Loss:0.162 | Valid Loss:0.143\nTrain  Acc:0.755\nValid  Acc:0.787\nEpoch:64  Train Loss:0.162 | Valid Loss:0.142\nTrain  Acc:0.755\nValid  Acc:0.788\nEpoch:65  Train Loss:0.162 | Valid Loss:0.143\nTrain  Acc:0.756\nValid  Acc:0.787\nsaving model...\ndone\nEpoch:66  Train Loss:0.162 | Valid Loss:0.142\nTrain  Acc:0.756\nValid  Acc:0.789\nEpoch:67  Train Loss:0.162 | Valid Loss:0.143\nTrain  Acc:0.755\nValid  Acc:0.788\nEpoch:68  Train Loss:0.162 | Valid Loss:0.142\nTrain  Acc:0.756\nValid  Acc:0.788\nEpoch:69  Train Loss:0.162 | Valid Loss:0.142\nTrain  Acc:0.756\nValid  Acc:0.788\nEpoch:70  Train Loss:0.162 | Valid Loss:0.143\nTrain  Acc:0.756\nValid  Acc:0.788\nEpoch:71  Train Loss:0.162 | Valid Loss:0.143\nTrain  Acc:0.756\nValid  Acc:0.787\nEpoch:72  Train Loss:0.162 | Valid Loss:0.142\nTrain  Acc:0.756\nValid  Acc:0.788\nsaving model...\ndone\nEpoch:73  Train Loss:0.162 | Valid Loss:0.142\nTrain  Acc:0.756\nValid  Acc:0.789\nEpoch:74  Train Loss:0.162 | Valid Loss:0.143\nTrain  Acc:0.756\nValid  Acc:0.787\nsaving model...\ndone\nEpoch:75  Train Loss:0.162 | Valid Loss:0.142\nTrain  Acc:0.756\nValid  Acc:0.789\nsaving model...\ndone\nEpoch:76  Train Loss:0.161 | Valid Loss:0.142\nTrain  Acc:0.756\nValid  Acc:0.790\nEpoch:77  Train Loss:0.162 | Valid Loss:0.142\nTrain  Acc:0.757\nValid  Acc:0.789\nEpoch:78  Train Loss:0.161 | Valid Loss:0.142\nTrain  Acc:0.757\nValid  Acc:0.789\nEpoch:79  Train Loss:0.161 | Valid Loss:0.142\nTrain  Acc:0.756\nValid  Acc:0.789\nEpoch:80  Train Loss:0.161 | Valid Loss:0.142\nTrain  Acc:0.757\nValid  Acc:0.789\nEpoch:81  Train Loss:0.161 | Valid Loss:0.142\nTrain  Acc:0.757\nValid  Acc:0.789\nsaving model...\ndone\nEpoch:82  Train Loss:0.161 | Valid Loss:0.141\nTrain  Acc:0.756\nValid  Acc:0.790\nEpoch:83  Train Loss:0.161 | Valid Loss:0.142\nTrain  Acc:0.757\nValid  Acc:0.789\nEpoch:84  Train Loss:0.161 | Valid Loss:0.141\nTrain  Acc:0.757\nValid  Acc:0.790\nEpoch:85  Train Loss:0.161 | Valid Loss:0.142\nTrain  Acc:0.757\nValid  Acc:0.789\nEpoch:86  Train Loss:0.161 | Valid Loss:0.141\nTrain  Acc:0.757\nValid  Acc:0.790\nEpoch:87  Train Loss:0.161 | Valid Loss:0.141\nTrain  Acc:0.757\nValid  Acc:0.790\nsaving model...\ndone\nEpoch:88  Train Loss:0.161 | Valid Loss:0.141\nTrain  Acc:0.757\nValid  Acc:0.790\nEpoch:89  Train Loss:0.161 | Valid Loss:0.141\nTrain  Acc:0.757\nValid  Acc:0.790\nsaving model...\ndone\nEpoch:90  Train Loss:0.161 | Valid Loss:0.141\nTrain  Acc:0.757\nValid  Acc:0.790\nsaving model...\ndone\nEpoch:91  Train Loss:0.161 | Valid Loss:0.140\nTrain  Acc:0.757\nValid  Acc:0.791\nEpoch:92  Train Loss:0.161 | Valid Loss:0.141\nTrain  Acc:0.757\nValid  Acc:0.791\nsaving model...\ndone\nEpoch:93  Train Loss:0.161 | Valid Loss:0.141\nTrain  Acc:0.757\nValid  Acc:0.791\nEpoch:94  Train Loss:0.161 | Valid Loss:0.141\nTrain  Acc:0.757\nValid  Acc:0.790\nsaving model...\ndone\nEpoch:95  Train Loss:0.161 | Valid Loss:0.141\nTrain  Acc:0.757\nValid  Acc:0.791\nEpoch:96  Train Loss:0.161 | Valid Loss:0.141\nTrain  Acc:0.758\nValid  Acc:0.791\nEpoch:97  Train Loss:0.161 | Valid Loss:0.141\nTrain  Acc:0.758\nValid  Acc:0.791\nsaving model...\ndone\nEpoch:98  Train Loss:0.161 | Valid Loss:0.140\nTrain  Acc:0.758\nValid  Acc:0.792\nEpoch:99  Train Loss:0.161 | Valid Loss:0.141\nTrain  Acc:0.757\nValid  Acc:0.791\nEpoch:100  Train Loss:0.161 | Valid Loss:0.140\nTrain  Acc:0.758\nValid  Acc:0.792\n\nEpoch Process Time: 40.19Minute\nBest Epoch:98, Best Acc:0.792\n"
        },
        {
          "output_type": "error",
          "ename": "TypeError",
          "evalue": "'NoneType' object is not iterable",
          "traceback": [
            "\u001b[0;31m---------------------------------------------------------------------------\u001b[0m",
            "\u001b[0;31mTypeError\u001b[0m                                 Traceback (most recent call last)",
            "\u001b[0;32m<ipython-input-27-432ca66233e2>\u001b[0m in \u001b[0;36m<module>\u001b[0;34m\u001b[0m\n\u001b[1;32m      1\u001b[0m best_epoch, best_auprc, best_auc = train(epochs = epochs, model = model, optimizer = optimizer, train_loader = train_loader, \\\n\u001b[0;32m----> 2\u001b[0;31m                                          valid_loader = valid_loader, device = device)\n\u001b[0m",
            "\u001b[0;31mTypeError\u001b[0m: 'NoneType' object is not iterable"
          ]
        }
      ],
      "execution_count": 27,
      "metadata": {}
    },
    {
      "cell_type": "markdown",
      "source": [
        "## Inference"
      ],
      "metadata": {}
    },
    {
      "cell_type": "code",
      "source": [
        "def inference(model, test_loader, device):\n",
        "    pred_list = []\n",
        "\n",
        "    model.eval()\n",
        "    with torch.no_grad():\n",
        "        for inputs, mapped_inputs in test_loader:\n",
        "            \n",
        "            mapped_inputs = torch.tensor(mapped_inputs, device=device, dtype=torch.float32)\n",
        "            \n",
        "            N = mapped_inputs.shape[-1]\n",
        "            preds = model(mapped_inputs)\n",
        "            preds = preds.detach().cpu().numpy()\n",
        "\n",
        "            \n",
        "\n",
        "            for idx, predictions in enumerate(preds):\n",
        "                total_colored = np.sum(np.array(inputs[idx][0]))\n",
        "                threshold = np.amin(nlargest(total_colored, predictions))\n",
        "                predictions = [1 if a >= threshold else 0 for a in predictions]\n",
        "                pred_list.append(np.array(predictions).reshape((N, N)))\n",
        "\n",
        "        pred_list = np.array(pred_list)\n",
        "        \n",
        "    return pred_list"
      ],
      "outputs": [],
      "execution_count": 46,
      "metadata": {
        "gather": {
          "logged": 1636003369276
        }
      }
    },
    {
      "cell_type": "code",
      "source": [
        "num_pixels = X_test.shape[-2] if X_test.ndim is 4 else X_test.shape[-1]\n",
        "\n",
        "model = MLP_Network(num_pixels = num_pixels)\n",
        "model.load_state_dict(torch.load('./weights/MLP.pth'))\n",
        "model.to(device)\n",
        "\n",
        "test_loader = get_loader(batch_size=32, shuffle=False, num_workers=6, X = X_test, X_mapped = X_test_mapped, y = None) \n",
        "\n",
        "pred_list = inference(model = model, test_loader = test_loader, device = device)\n",
        "\n"
      ],
      "outputs": [
        {
          "output_type": "stream",
          "name": "stdout",
          "text": "length : 10000\n"
        },
        {
          "output_type": "stream",
          "name": "stderr",
          "text": "/anaconda/envs/azureml_py36/lib/python3.6/site-packages/ipykernel_launcher.py:8: UserWarning: To copy construct from a tensor, it is recommended to use sourceTensor.clone().detach() or sourceTensor.clone().detach().requires_grad_(True), rather than torch.tensor(sourceTensor).\n  \n"
        }
      ],
      "execution_count": 47,
      "metadata": {
        "gather": {
          "logged": 1636003372941
        }
      }
    },
    {
      "cell_type": "code",
      "source": [
        "i = 10\r\n",
        "\r\n",
        "print(pred_list[i])\r\n",
        "print(Y_test[i])"
      ],
      "outputs": [
        {
          "output_type": "stream",
          "name": "stdout",
          "text": "[[0 1 1 0 0 1 1 1]\n [0 0 0 0 0 1 1 1]\n [0 0 0 0 0 0 0 1]\n [1 0 0 0 0 0 0 1]\n [0 0 0 0 0 0 1 1]\n [0 0 0 0 0 0 1 1]\n [1 1 0 1 0 0 1 0]\n [1 1 0 1 1 0 1 1]]\n[[0 0 1 1 0 0 1 1]\n [0 1 0 0 0 0 1 1]\n [0 0 0 0 0 1 0 1]\n [1 0 0 1 0 0 0 1]\n [0 0 1 0 0 1 0 0]\n [0 1 0 0 0 0 1 0]\n [1 0 0 1 0 0 1 0]\n [1 1 0 1 1 0 1 1]]\n"
        }
      ],
      "execution_count": 50,
      "metadata": {
        "jupyter": {
          "source_hidden": false,
          "outputs_hidden": false
        },
        "nteract": {
          "transient": {
            "deleting": false
          }
        },
        "gather": {
          "logged": 1636003443401
        }
      }
    }
  ],
  "metadata": {
    "interpreter": {
      "hash": "845270aa2c885a888b45db3c1bae60d031e62d06b801817adb1ea555314d8774"
    },
    "kernelspec": {
      "name": "python3",
      "language": "python",
      "display_name": "Python 3"
    },
    "language_info": {
      "name": "python",
      "version": "3.6.9",
      "mimetype": "text/x-python",
      "codemirror_mode": {
        "name": "ipython",
        "version": 3
      },
      "pygments_lexer": "ipython3",
      "nbconvert_exporter": "python",
      "file_extension": ".py"
    },
    "orig_nbformat": 4,
    "kernel_info": {
      "name": "python3"
    },
    "nteract": {
      "version": "nteract-front-end@1.0.0"
    },
    "microsoft": {
      "host": {
        "AzureML": {
          "notebookHasBeenCompleted": true
        }
      }
    }
  },
  "nbformat": 4,
  "nbformat_minor": 2
}