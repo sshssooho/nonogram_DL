{
  "cells": [
    {
      "cell_type": "markdown",
      "source": [
        "# Main Code"
      ],
      "metadata": {}
    },
    {
      "cell_type": "code",
      "source": [
        "import numpy as np\n",
        "from sklearn.model_selection import train_test_split\n",
        "from heapq import nlargest\n",
        "from sklearn.metrics import accuracy_score\n",
        "\n",
        "from tqdm import tqdm\n",
        "\n",
        "import time\n",
        "\n",
        "import torch\n",
        "import torch.nn as nn\n",
        "import torch.nn.functional as F\n",
        "import torch_optimizer as optim   \n",
        "from torch.utils.data import Dataset, DataLoader\n",
        "from torch.nn import MSELoss"
      ],
      "outputs": [],
      "execution_count": 1,
      "metadata": {
        "gather": {
          "logged": 1639057232911
        }
      }
    },
    {
      "cell_type": "code",
      "source": [
        "import import_ipynb\n",
        "from network.FullyConnected_Network import FCnet\n",
        "from network.Transformer_Network import ATnet\n",
        "from network.Convolutional_Network import RNnet"
      ],
      "outputs": [
        {
          "output_type": "stream",
          "name": "stdout",
          "text": "importing Jupyter notebook from /mnt/batch/tasks/shared/LS_root/mounts/clusters/rhs/code/Users/qw07020821/NN_DL/nonogram_DL/network/FullyConnected_Network.ipynb\nimporting Jupyter notebook from /mnt/batch/tasks/shared/LS_root/mounts/clusters/rhs/code/Users/qw07020821/NN_DL/nonogram_DL/network/Transformer_Network.ipynb\nimporting Jupyter notebook from /mnt/batch/tasks/shared/LS_root/mounts/clusters/rhs/code/Users/qw07020821/NN_DL/nonogram_DL/network/Convolutional_Network.ipynb\n"
        }
      ],
      "execution_count": 2,
      "metadata": {
        "gather": {
          "logged": 1639057233298
        }
      }
    },
    {
      "cell_type": "markdown",
      "source": [
        "## Get Data"
      ],
      "metadata": {}
    },
    {
      "cell_type": "code",
      "source": [
        "print('loading...', flush = True)\n",
        "X_train = np.load('./data/X_train.npy', allow_pickle= True)  # X_train and X_test is pickled\n",
        "Y_train = np.load('./data/Y_train.npy')\n",
        "X_test = np.load('./data/X_test.npy', allow_pickle= True)\n",
        "Y_test = np.load('./data/Y_test.npy')\n",
        "print('done')"
      ],
      "outputs": [
        {
          "output_type": "stream",
          "name": "stdout",
          "text": "loading...\ndone\n"
        }
      ],
      "execution_count": 3,
      "metadata": {
        "gather": {
          "logged": 1639057272287
        }
      }
    },
    {
      "cell_type": "markdown",
      "source": [
        "## Preprocessing - converting conditions into 'possibility maps'"
      ],
      "metadata": {}
    },
    {
      "cell_type": "code",
      "source": [
        "X_train.shape, Y_train.shape, X_test.shape, Y_test.shape"
      ],
      "outputs": [
        {
          "output_type": "execute_result",
          "execution_count": 4,
          "data": {
            "text/plain": "((600000, 2, 10), (600000, 10, 10), (50000, 2, 10), (50000, 10, 10))"
          },
          "metadata": {}
        }
      ],
      "execution_count": 4,
      "metadata": {
        "gather": {
          "logged": 1639057272664
        }
      }
    },
    {
      "cell_type": "code",
      "source": [
        "def searchcombinationsUtil(k, n):\n",
        "    \"\"\"\n",
        "    k: number of elements (>= 1)\n",
        "    n: total sum of elements\n",
        "    return all possible combinations of k numbers that add up to n, regarding its order\n",
        "    \"\"\"\n",
        "    # Recursive function\n",
        "    \n",
        "    if k == 1:\n",
        "        return [[n]]\n",
        "    else:\n",
        "        output = []\n",
        "        for i in range(0, n+1):\n",
        "            output += [[i]+items for items in searchcombinationsUtil(k-1, n-i)]\n",
        "        return output        "
      ],
      "outputs": [],
      "execution_count": 5,
      "metadata": {
        "gather": {
          "logged": 1639057273155
        }
      }
    },
    {
      "cell_type": "code",
      "source": [
        "def pixel_val_calculator(constraint, N):\n",
        "    \"\"\"\n",
        "    constraint: the condition(constraint) of a single row/column in a nonogram\n",
        "    N: the length of the width/height of the nonogram\n",
        "    returns a vector with length N, and each value of the vector is the possibility of the corresponding pixel to be colored\n",
        "    \"\"\"\n",
        "    total_colored = np.sum(constraint)\n",
        "\n",
        "    if(len(constraint) == 0):\n",
        "        return [0 for _ in range(N)]\n",
        "    else:\n",
        "        combinations = searchcombinationsUtil(k=int(len(constraint)+1), n= int(N-total_colored-len(constraint)+1))\n",
        "        output = []\n",
        "\n",
        "        for each_combination in combinations:\n",
        "            pixel_val = []\n",
        "            for idx, elements in enumerate(each_combination):\n",
        "                if (idx == 0) or (idx == len(constraint)):\n",
        "                    pixel_val += [0 for _ in range(elements)]\n",
        "                else:\n",
        "                    pixel_val += [0 for _ in range(elements+1)]\n",
        "                if idx != (len(constraint)):\n",
        "                    pixel_val += [1 for _ in range(constraint[idx])]\n",
        "            output.append(pixel_val)\n",
        "        \n",
        "        output = np.array(output, dtype = np.float64)\n",
        "        output = np.sum(output, axis = 0)\n",
        "        output/= len(combinations)\n",
        "\n",
        "        return output"
      ],
      "outputs": [],
      "execution_count": 6,
      "metadata": {
        "gather": {
          "logged": 1639057273653
        }
      }
    },
    {
      "cell_type": "code",
      "source": [
        "pixel_val_calculator([7, 1], 10)"
      ],
      "outputs": [
        {
          "output_type": "execute_result",
          "execution_count": 7,
          "data": {
            "text/plain": "array([0.66666667, 1.        , 1.        , 1.        , 1.        ,\n       1.        , 1.        , 0.33333333, 0.33333333, 0.66666667])"
          },
          "metadata": {}
        }
      ],
      "execution_count": 7,
      "metadata": {
        "gather": {
          "logged": 1639057273995
        }
      }
    },
    {
      "cell_type": "code",
      "source": [
        "def possibility_map_generator(X):\n",
        "    \"\"\"\n",
        "    X: (batch_size, 2, N) or (batch_size, 2, N, t) only if all constraints are composed of same number of blocks (=t)\n",
        "    (2, N): each nonogram puzzle\n",
        "    2 stands for each condition (row condition, column condition)\n",
        "    N stands for the number of pixels (Number of total constraints)\n",
        "    returns possibility_map: (batch_size, 2, N, N)\n",
        "    \"\"\"\n",
        "    assert X.ndim in [3, 4]\n",
        "    \n",
        "    if X.ndim == 3:\n",
        "        N = X.shape[-1]\n",
        "    if X.ndim == 4:\n",
        "        N = X.shape[-2]\n",
        "\n",
        "    possibility_map = []\n",
        "    for puzzles in tqdm(X):\n",
        "        row_condition = puzzles[0]\n",
        "        row_map = []\n",
        "        for constraints in row_condition:\n",
        "            row_map.append(pixel_val_calculator(constraint=constraints, N=N))\n",
        "        row_map = np.array(row_map)\n",
        "\n",
        "        column_condition = puzzles[1]\n",
        "        column_map = []\n",
        "        for constraints in column_condition:\n",
        "            column_map.append(pixel_val_calculator(constraint=constraints, N=N))\n",
        "        column_map = np.array(column_map)\n",
        "        column_map = column_map.T\n",
        "\n",
        "        possibility_map.append(np.array([row_map, column_map]))\n",
        "        \n",
        "    possibility_map = np.asarray(possibility_map)\n",
        "    return possibility_map"
      ],
      "outputs": [],
      "execution_count": 8,
      "metadata": {
        "gather": {
          "logged": 1639057274229
        }
      }
    },
    {
      "cell_type": "code",
      "source": [
        "a = np.array([[[2], [1]], [[1], [2]]])\n",
        "print(a.shape)\n",
        "possibility_map_generator(np.expand_dims(a,0))"
      ],
      "outputs": [
        {
          "output_type": "stream",
          "name": "stderr",
          "text": "\r  0%|          | 0/1 [00:00<?, ?it/s]\r100%|██████████| 1/1 [00:00<00:00, 3360.82it/s]\n"
        },
        {
          "output_type": "stream",
          "name": "stdout",
          "text": "(2, 2, 1)\n"
        },
        {
          "output_type": "execute_result",
          "execution_count": 9,
          "data": {
            "text/plain": "array([[[[1. , 1. ],\n         [0.5, 0.5]],\n\n        [[0.5, 1. ],\n         [0.5, 1. ]]]])"
          },
          "metadata": {}
        }
      ],
      "execution_count": 9,
      "metadata": {
        "gather": {
          "logged": 1639057274461
        }
      }
    },
    {
      "cell_type": "markdown",
      "source": [
        "## Neural Network"
      ],
      "metadata": {}
    },
    {
      "cell_type": "code",
      "source": [
        "class NN_Dataset(Dataset):\n",
        "\n",
        "    def __init__(self, X, X_mapped=None, y=None):\n",
        "\n",
        "        assert X.ndim in [3, 4]\n",
        "\n",
        "        if X.ndim == 3:\n",
        "            N = X.shape[-1]\n",
        "            self.X = np.array([[np.array([k + [0]*(N - len(k))for k in j]) for j in i] for i in X])\n",
        "        if X.ndim == 4:\n",
        "            N = X.shape[-2]\n",
        "\n",
        "\n",
        "        # pre-calculated possibility map if possible\n",
        "        if X_mapped is not None:\n",
        "            self.X_mapped = X_mapped\n",
        "        else:\n",
        "            self.X_mapped = possibility_map_generator(X)\n",
        "\n",
        "        self.y = y\n",
        "        \n",
        "    def __getitem__(self, idx):\n",
        "        inputs = np.array(self.X[idx])\n",
        "        mapped_inputs = np.array(self.X_mapped[idx], dtype = np.float64)\n",
        "        \n",
        "\n",
        "        if self.y is not None:    # Train\n",
        "            labels = self.y[idx]\n",
        "            labels = np.array(labels, dtype=np.float64)\n",
        "            return inputs, mapped_inputs, labels\n",
        "\n",
        "        else:                     # Test\n",
        "            return inputs, mapped_inputs\n",
        "    \n",
        "    def __len__(self):\n",
        "        return len(self.X)\n"
      ],
      "outputs": [],
      "execution_count": 10,
      "metadata": {
        "gather": {
          "logged": 1639057274689
        }
      }
    },
    {
      "cell_type": "code",
      "source": [
        "def get_loader(batch_size, shuffle, num_workers, X, X_mapped=None, y=None):\n",
        "    dataset = NN_Dataset(X, X_mapped, y)\n",
        "    data_loader = DataLoader(dataset, batch_size=batch_size, shuffle=shuffle,\n",
        "                            num_workers=num_workers)\n",
        "\n",
        "    print(f'length : {len(dataset)}')\n",
        "    return data_loader"
      ],
      "outputs": [],
      "execution_count": 11,
      "metadata": {
        "gather": {
          "logged": 1639057274932
        }
      }
    },
    {
      "cell_type": "markdown",
      "source": [
        "## Training"
      ],
      "metadata": {}
    },
    {
      "cell_type": "code",
      "source": [
        "device = torch.device('cuda' if torch.cuda.is_available() else 'cpu')\r\n",
        "print(device)"
      ],
      "outputs": [
        {
          "output_type": "stream",
          "name": "stdout",
          "text": "cuda\n"
        }
      ],
      "execution_count": 12,
      "metadata": {
        "gather": {
          "logged": 1639057275166
        }
      }
    },
    {
      "cell_type": "code",
      "source": [
        "def train(epochs, model, optimizer, train_loader, valid_loader, device):\n",
        "    start = time.time()\n",
        "\n",
        "    best_acc = 0\n",
        "    for epoch in range(1, epochs+1):\n",
        "\n",
        "        # Train\n",
        "        model.train()    \n",
        "        train_accuracies = []\n",
        "        train_losses = []\n",
        "        for i, (inputs, mapped_inputs, labels) in enumerate(tqdm(train_loader)):\n",
        "            \n",
        "            optimizer.zero_grad()\n",
        "            mapped_inputs = torch.tensor(mapped_inputs, device=device, dtype=torch.float32)\n",
        "            labels = torch.tensor(labels, device=device, dtype=torch.float32)\n",
        "            \n",
        "            preds = model(mapped_inputs)\n",
        "\n",
        "            loss = MSELoss()\n",
        "            l = loss(preds, labels)\n",
        "            \n",
        "            l.backward()\n",
        "            optimizer.step()\n",
        "\n",
        "            preds = torch.flatten(preds, start_dim = 1).detach().cpu().numpy()\n",
        "            labels = torch.flatten(labels, start_dim = 1).detach().cpu().numpy()\n",
        "\n",
        "\n",
        "            for idx, predictions in enumerate(preds):\n",
        "                total_colored = np.sum(np.array(inputs[idx][0]))\n",
        "                threshold = np.amin(nlargest(total_colored, predictions))\n",
        "                predictions = [1 if a >= threshold else 0 for a in predictions]\n",
        "                acc = accuracy_score(predictions, labels[idx])\n",
        "                train_accuracies.append(acc)\n",
        "            \n",
        "            \n",
        "            train_losses.append(l.item())\n",
        "        \n",
        "\n",
        "        # Validation\n",
        "        model.eval()\n",
        "        val_accuracies = []\n",
        "        val_losses = []\n",
        "        with torch.no_grad():\n",
        "            for inputs, mapped_inputs, labels in valid_loader:\n",
        "                \n",
        "                mapped_inputs = torch.tensor(mapped_inputs, device=device, dtype=torch.float32)\n",
        "                labels = torch.tensor(labels, device=device, dtype=torch.float32)\n",
        "\n",
        "                \n",
        "                preds = model(mapped_inputs)\n",
        "\n",
        "\n",
        "                loss = MSELoss()\n",
        "                l = loss(preds, labels)\n",
        "                \n",
        "                val_losses.append(l.item())\n",
        "\n",
        "                preds = torch.flatten(preds, start_dim = 1).detach().cpu().numpy()\n",
        "                labels = torch.flatten(labels, start_dim = 1).detach().cpu().numpy()\n",
        "\n",
        "\n",
        "                for idx, predictions in enumerate(preds):\n",
        "                    total_colored = np.sum(np.array(inputs[idx][0]))\n",
        "                    threshold = np.amin(nlargest(total_colored, predictions))\n",
        "                    predictions = [1 if a >= threshold else 0 for a in predictions]\n",
        "                    acc = accuracy_score(predictions, labels[idx])\n",
        "                    val_accuracies.append(acc)\n",
        "            \n",
        "            val_losses.append(l.item())\n",
        "\n",
        "            \n",
        "        train_loss = np.mean(train_losses)\n",
        "        val_loss = np.mean(val_losses)\n",
        "        train_acc = np.mean(train_accuracies)\n",
        "        val_acc = np.mean(val_accuracies)\n",
        "\n",
        "        if best_acc < val_acc:\n",
        "            best_acc = val_acc\n",
        "            best_epoch = epoch\n",
        "            print('saving model...', flush = True)\n",
        "            if isinstance(model, ATnet):\n",
        "                torch.save(model.state_dict(), './weights/ATnet.pth')\n",
        "            if isinstance(model, FCnet):\n",
        "                torch.save(model.state_dict(), './weights/FCnet.pth')\n",
        "            if isinstance(model, RNnet):\n",
        "                torch.save(model.state_dict(), './weights/RNnet.pth')\n",
        "            print('done')\n",
        "\n",
        "        print(f'Epoch:{epoch}  Train Loss:{train_loss:.3f} | Valid Loss:{val_loss:.3f}')\n",
        "        print(f'Train  Acc:{train_acc:.3f}')\n",
        "        print(f'Valid  Acc:{val_acc:.3f}')\n",
        "\n",
        "    end = time.time()\n",
        "    print(f'\\nEpoch Process Time: {(end-start)/60:.2f}Minute')\n",
        "    print(f'Best Epoch:{best_epoch}, Best Acc:{best_acc:.3f}')"
      ],
      "outputs": [],
      "execution_count": 13,
      "metadata": {
        "gather": {
          "logged": 1639057275448
        }
      }
    },
    {
      "cell_type": "code",
      "source": [
        "X_train_mapped = possibility_map_generator(X_train)\r\n",
        "X_test_mapped = possibility_map_generator(X_test)\r\n",
        "\r\n",
        "X_train, X_val, X_train_mapped, X_val_mapped, Y_train, Y_val = train_test_split(X_train, X_train_mapped, Y_train, test_size = 0.1, random_state = 42) "
      ],
      "outputs": [
        {
          "output_type": "stream",
          "name": "stderr",
          "text": "100%|██████████| 600000/600000 [36:28<00:00, 274.20it/s]\n100%|██████████| 50000/50000 [03:02<00:00, 273.69it/s]\n"
        }
      ],
      "execution_count": 14,
      "metadata": {
        "jupyter": {
          "source_hidden": false,
          "outputs_hidden": false
        },
        "nteract": {
          "transient": {
            "deleting": false
          }
        },
        "gather": {
          "logged": 1639059645076
        }
      }
    },
    {
      "cell_type": "code",
      "source": [
        "print(X_train.shape, X_val.shape, X_train_mapped.shape, X_val_mapped.shape, Y_train.shape, Y_val.shape)"
      ],
      "outputs": [
        {
          "output_type": "stream",
          "name": "stdout",
          "text": "(540000, 2, 10) (60000, 2, 10) (540000, 2, 10, 10) (60000, 2, 10, 10) (540000, 10, 10) (60000, 10, 10)\n"
        }
      ],
      "execution_count": 15,
      "metadata": {
        "gather": {
          "logged": 1639059645314
        }
      }
    },
    {
      "cell_type": "code",
      "source": [
        "train_loader = get_loader(batch_size=128, shuffle=True, num_workers=6, X = X_train, X_mapped=X_train_mapped, y = Y_train) \n",
        "valid_loader = get_loader(batch_size=128, shuffle=False, num_workers=6, X = X_val, X_mapped = X_val_mapped, y = Y_val) \n",
        "epochs = 50\n",
        "lr = 0.0003\n",
        "\n",
        "num_pixels = X_train.shape[-2] if X_train.ndim is 4 else X_train.shape[-1]\n",
        "\n",
        "#model = MLP_Network(num_pixels = num_pixels).to(device)\n",
        "# model = RNnet(n_channels = 2).to(device)\n",
        "\n",
        "ATnet_Config = {\n",
        "    'N': 10,\n",
        "    'emb_dim': 64,\n",
        "    'depth': 8, \n",
        "    'd_model': 64, \n",
        "    'num_heads': 8, \n",
        "    'expansion': 4, \n",
        "    'dropout': 0.1\n",
        "}\n",
        "\n",
        "model = ATnet(**ATnet_Config).to(device)\n",
        "\n",
        "optimizer = torch.optim.AdamW(params=model.parameters(), lr=lr)"
      ],
      "outputs": [
        {
          "output_type": "stream",
          "name": "stdout",
          "text": "length : 540000\nlength : 60000\n"
        }
      ],
      "execution_count": 16,
      "metadata": {
        "gather": {
          "logged": 1639059670675
        }
      }
    },
    {
      "cell_type": "code",
      "source": [
        "best_epoch, best_auprc, best_auc = train(epochs = epochs, model = model, optimizer = optimizer, train_loader = train_loader, \\\n",
        "                                         valid_loader = valid_loader, device = device)"
      ],
      "outputs": [
        {
          "output_type": "stream",
          "name": "stderr",
          "text": "  0%|          | 0/4219 [00:00<?, ?it/s]/anaconda/envs/azureml_py36/lib/python3.6/site-packages/ipykernel_launcher.py:14: UserWarning: To copy construct from a tensor, it is recommended to use sourceTensor.clone().detach() or sourceTensor.clone().detach().requires_grad_(True), rather than torch.tensor(sourceTensor).\n  \n/anaconda/envs/azureml_py36/lib/python3.6/site-packages/ipykernel_launcher.py:15: UserWarning: To copy construct from a tensor, it is recommended to use sourceTensor.clone().detach() or sourceTensor.clone().detach().requires_grad_(True), rather than torch.tensor(sourceTensor).\n  from ipykernel import kernelapp as app\n100%|██████████| 4219/4219 [05:56<00:00, 11.83it/s]\n/anaconda/envs/azureml_py36/lib/python3.6/site-packages/ipykernel_launcher.py:47: UserWarning: To copy construct from a tensor, it is recommended to use sourceTensor.clone().detach() or sourceTensor.clone().detach().requires_grad_(True), rather than torch.tensor(sourceTensor).\n/anaconda/envs/azureml_py36/lib/python3.6/site-packages/ipykernel_launcher.py:48: UserWarning: To copy construct from a tensor, it is recommended to use sourceTensor.clone().detach() or sourceTensor.clone().detach().requires_grad_(True), rather than torch.tensor(sourceTensor).\n100%|██████████| 4219/4219 [05:59<00:00, 11.75it/s]\n100%|██████████| 4219/4219 [05:58<00:00, 11.77it/s]\n100%|██████████| 4219/4219 [06:00<00:00, 11.70it/s]\n100%|██████████| 4219/4219 [06:00<00:00, 11.69it/s]\n100%|██████████| 4219/4219 [05:59<00:00, 11.73it/s]\n100%|██████████| 4219/4219 [06:02<00:00, 11.65it/s]\n100%|██████████| 4219/4219 [06:02<00:00, 11.65it/s]\n100%|██████████| 4219/4219 [05:59<00:00, 11.73it/s]\n100%|██████████| 4219/4219 [05:59<00:00, 11.75it/s]\n100%|██████████| 4219/4219 [05:59<00:00, 11.73it/s]\n100%|██████████| 4219/4219 [06:00<00:00, 11.70it/s]\n100%|██████████| 4219/4219 [05:58<00:00, 11.76it/s]\n100%|██████████| 4219/4219 [05:59<00:00, 11.75it/s]\n100%|██████████| 4219/4219 [05:58<00:00, 11.77it/s]\n100%|██████████| 4219/4219 [06:03<00:00, 11.62it/s]\n100%|██████████| 4219/4219 [06:00<00:00, 11.71it/s]\n100%|██████████| 4219/4219 [05:58<00:00, 11.78it/s]\n100%|██████████| 4219/4219 [05:57<00:00, 11.81it/s]\n100%|██████████| 4219/4219 [05:59<00:00, 11.73it/s]\n100%|██████████| 4219/4219 [06:00<00:00, 11.72it/s]\n100%|██████████| 4219/4219 [06:00<00:00, 11.71it/s]\n100%|██████████| 4219/4219 [06:00<00:00, 11.71it/s]\n100%|██████████| 4219/4219 [06:02<00:00, 11.65it/s]\n100%|██████████| 4219/4219 [06:00<00:00, 11.70it/s]\n100%|██████████| 4219/4219 [06:01<00:00, 11.68it/s]\n 78%|███████▊  | 3298/4219 [04:40<01:17, 11.89it/s]"
        },
        {
          "output_type": "stream",
          "name": "stdout",
          "text": "saving model...\ndone\nEpoch:1  Train Loss:0.142 | Valid Loss:0.138\nTrain  Acc:0.777\nValid  Acc:0.782\nsaving model...\ndone\nEpoch:2  Train Loss:0.137 | Valid Loss:0.135\nTrain  Acc:0.784\nValid  Acc:0.788\nsaving model...\ndone\nEpoch:3  Train Loss:0.135 | Valid Loss:0.133\nTrain  Acc:0.789\nValid  Acc:0.793\nsaving model...\ndone\nEpoch:4  Train Loss:0.132 | Valid Loss:0.128\nTrain  Acc:0.794\nValid  Acc:0.801\nsaving model...\ndone\nEpoch:5  Train Loss:0.129 | Valid Loss:0.124\nTrain  Acc:0.801\nValid  Acc:0.809\nsaving model...\ndone\nEpoch:6  Train Loss:0.126 | Valid Loss:0.122\nTrain  Acc:0.806\nValid  Acc:0.813\nsaving model...\ndone\nEpoch:7  Train Loss:0.124 | Valid Loss:0.121\nTrain  Acc:0.809\nValid  Acc:0.815\nsaving model...\ndone\nEpoch:8  Train Loss:0.123 | Valid Loss:0.120\nTrain  Acc:0.811\nValid  Acc:0.817\nsaving model...\ndone\nEpoch:9  Train Loss:0.122 | Valid Loss:0.119\nTrain  Acc:0.813\nValid  Acc:0.818\nsaving model...\ndone\nEpoch:10  Train Loss:0.121 | Valid Loss:0.118\nTrain  Acc:0.814\nValid  Acc:0.820\nsaving model...\ndone\nEpoch:11  Train Loss:0.120 | Valid Loss:0.117\nTrain  Acc:0.816\nValid  Acc:0.821\nsaving model...\ndone\nEpoch:12  Train Loss:0.119 | Valid Loss:0.116\nTrain  Acc:0.817\nValid  Acc:0.822\nsaving model...\ndone\nEpoch:13  Train Loss:0.119 | Valid Loss:0.115\nTrain  Acc:0.818\nValid  Acc:0.823\nsaving model...\ndone\nEpoch:14  Train Loss:0.118 | Valid Loss:0.115\nTrain  Acc:0.819\nValid  Acc:0.824\nsaving model...\ndone\nEpoch:15  Train Loss:0.117 | Valid Loss:0.114\nTrain  Acc:0.820\nValid  Acc:0.825\nsaving model...\ndone\nEpoch:16  Train Loss:0.117 | Valid Loss:0.114\nTrain  Acc:0.821\nValid  Acc:0.826\nsaving model...\ndone\nEpoch:17  Train Loss:0.116 | Valid Loss:0.113\nTrain  Acc:0.822\nValid  Acc:0.826\nsaving model...\ndone\nEpoch:18  Train Loss:0.116 | Valid Loss:0.113\nTrain  Acc:0.822\nValid  Acc:0.827\nsaving model...\ndone\nEpoch:19  Train Loss:0.116 | Valid Loss:0.113\nTrain  Acc:0.823\nValid  Acc:0.828\nsaving model...\ndone\nEpoch:20  Train Loss:0.115 | Valid Loss:0.112\nTrain  Acc:0.824\nValid  Acc:0.828\nsaving model...\ndone\nEpoch:21  Train Loss:0.115 | Valid Loss:0.112\nTrain  Acc:0.824\nValid  Acc:0.828\nsaving model...\ndone\nEpoch:22  Train Loss:0.115 | Valid Loss:0.112\nTrain  Acc:0.825\nValid  Acc:0.829\nsaving model...\ndone\nEpoch:23  Train Loss:0.114 | Valid Loss:0.112\nTrain  Acc:0.825\nValid  Acc:0.829\nsaving model...\ndone\nEpoch:24  Train Loss:0.114 | Valid Loss:0.111\nTrain  Acc:0.825\nValid  Acc:0.829\nsaving model...\ndone\nEpoch:25  Train Loss:0.114 | Valid Loss:0.111\nTrain  Acc:0.826\nValid  Acc:0.830\nsaving model...\ndone\nEpoch:26  Train Loss:0.114 | Valid Loss:0.111\nTrain  Acc:0.826\nValid  Acc:0.830\n"
        }
      ],
      "execution_count": 17,
      "metadata": {}
    },
    {
      "cell_type": "markdown",
      "source": [
        "## Inference"
      ],
      "metadata": {}
    },
    {
      "cell_type": "code",
      "source": [
        "def inference(model, test_loader, device):\n",
        "    pred_list = []\n",
        "\n",
        "    model.eval()\n",
        "    with torch.no_grad():\n",
        "        for inputs, mapped_inputs in test_loader:\n",
        "            \n",
        "            mapped_inputs = torch.tensor(mapped_inputs, device=device, dtype=torch.float32)\n",
        "            \n",
        "            N = mapped_inputs.shape[-1]\n",
        "            preds = model(mapped_inputs)\n",
        "            preds = torch.flatten(preds, start_dim = 1).detach().cpu().numpy()\n",
        "            \n",
        "            for idx, predictions in enumerate(preds):\n",
        "                total_colored = np.sum(np.array(inputs[idx][0]))\n",
        "                threshold = np.amin(nlargest(total_colored, predictions))\n",
        "                predictions = [1 if a >= threshold else 0 for a in predictions]\n",
        "                pred_list.append(np.array(predictions).reshape(N, N))\n",
        "\n",
        "        pred_list = np.array(pred_list)\n",
        "        \n",
        "    return pred_list"
      ],
      "outputs": [],
      "execution_count": 18,
      "metadata": {
        "gather": {
          "logged": 1639087828440
        }
      }
    },
    {
      "cell_type": "code",
      "source": [
        "num_pixels = X_test.shape[-2] if X_test.ndim is 4 else X_test.shape[-1]\n",
        "\n",
        "model = ATnet(**ATnet_Config)\n",
        "model.load_state_dict(torch.load('./weights/ATnet.pth'))\n",
        "model.to(device)\n",
        "\n",
        "test_loader = get_loader(batch_size=256, shuffle=False, num_workers=6, X = X_test, X_mapped = X_test_mapped, y = None) \n",
        "\n",
        "pred_list = inference(model = model, test_loader = test_loader, device = device)\n",
        "\n"
      ],
      "outputs": [
        {
          "output_type": "stream",
          "name": "stdout",
          "text": "length : 50000\n"
        },
        {
          "output_type": "stream",
          "name": "stderr",
          "text": "/anaconda/envs/azureml_py36/lib/python3.6/site-packages/ipykernel_launcher.py:8: UserWarning: To copy construct from a tensor, it is recommended to use sourceTensor.clone().detach() or sourceTensor.clone().detach().requires_grad_(True), rather than torch.tensor(sourceTensor).\n  \n"
        }
      ],
      "execution_count": 20,
      "metadata": {
        "gather": {
          "logged": 1639087860478
        }
      }
    },
    {
      "cell_type": "code",
      "source": [
        "i = 10\r\n",
        "\r\n",
        "print(pred_list[i])\r\n",
        "print(Y_test[i])"
      ],
      "outputs": [
        {
          "output_type": "stream",
          "name": "stdout",
          "text": "[[0 0 0 0 0 0 0 0 0 0]\n [0 0 1 0 1 0 0 0 0 1]\n [0 0 0 0 0 0 0 0 1 0]\n [0 0 0 0 0 0 0 0 0 0]\n [0 0 0 1 0 1 0 0 1 0]\n [0 1 0 1 0 1 0 0 1 0]\n [0 1 0 1 0 1 0 0 1 0]\n [0 1 0 0 0 1 0 0 1 0]\n [0 0 0 1 0 1 0 0 1 0]\n [0 0 0 0 0 0 0 0 0 0]]\n[[0 0 0 0 0 0 0 0 0 0]\n [1 0 0 0 1 0 0 0 0 1]\n [1 0 0 0 0 0 0 0 0 0]\n [0 0 0 1 0 1 0 0 0 0]\n [0 0 0 1 0 1 0 0 0 0]\n [0 1 0 1 0 0 0 0 1 0]\n [0 1 0 0 0 1 0 0 1 0]\n [0 1 0 1 0 1 0 0 0 0]\n [0 0 1 0 1 0 0 0 1 0]\n [0 0 0 0 0 0 0 0 1 0]]\n"
        }
      ],
      "execution_count": 21,
      "metadata": {
        "jupyter": {
          "source_hidden": false,
          "outputs_hidden": false
        },
        "nteract": {
          "transient": {
            "deleting": false
          }
        },
        "gather": {
          "logged": 1639087862627
        }
      }
    },
    {
      "cell_type": "code",
      "source": [
        "np.save('./results/pred_ATnet.npy', pred_list)\r\n",
        "np.save('.results/label.npy', Y_test)"
      ],
      "outputs": [],
      "execution_count": 22,
      "metadata": {
        "jupyter": {
          "source_hidden": false,
          "outputs_hidden": false
        },
        "nteract": {
          "transient": {
            "deleting": false
          }
        },
        "gather": {
          "logged": 1639087885075
        }
      }
    },
    {
      "cell_type": "code",
      "source": [
        "pred_list_flattened = pred_list.reshape(len(X_test), -1)\r\n",
        "label_list_flattened = Y_test.reshape(len(X_test), -1)\r\n",
        "\r\n",
        "test_accuracies = []\r\n",
        "\r\n",
        "if X_test.ndim == 3:\r\n",
        "    N = X_test.shape[-1]\r\n",
        "    X_test = np.array([[np.array([k + [0]*(N - len(k))for k in j]) for j in i] for i in X_test])\r\n",
        "if X_test.ndim == 4:\r\n",
        "    N = X_test.shape[-2]\r\n",
        "\r\n",
        "for idx, predictions in enumerate(pred_list_flattened):  \r\n",
        "    total_colored = np.sum(np.array(X_test[idx][0]))\r\n",
        "    threshold = np.amin(nlargest(total_colored, predictions))\r\n",
        "    predictions = [1 if a >= threshold else 0 for a in predictions]\r\n",
        "    acc = accuracy_score(predictions, label_list_flattened[idx])\r\n",
        "    test_accuracies.append(acc)\r\n",
        "\r\n",
        "print(np.mean(test_accuracies))"
      ],
      "outputs": [
        {
          "output_type": "stream",
          "name": "stdout",
          "text": "0.8321227999999999\n"
        }
      ],
      "execution_count": 36,
      "metadata": {
        "jupyter": {
          "source_hidden": false,
          "outputs_hidden": false
        },
        "nteract": {
          "transient": {
            "deleting": false
          }
        },
        "gather": {
          "logged": 1639088966846
        }
      }
    },
    {
      "cell_type": "code",
      "source": [
        "correct_idx = [i for i in range(len(test_accuracies)) if test_accuracies[i] == 1.0]\r\n",
        "print(correct_idx)"
      ],
      "outputs": [
        {
          "output_type": "stream",
          "name": "stdout",
          "text": "[3221, 6801, 7161, 7257, 8954, 10943, 11967, 14495, 15176, 16686, 18655, 22375, 29391, 30465, 31669, 33937, 35650, 42395, 46946, 47928, 48114, 48411, 48515]\n"
        }
      ],
      "execution_count": 37,
      "metadata": {
        "jupyter": {
          "source_hidden": false,
          "outputs_hidden": false
        },
        "nteract": {
          "transient": {
            "deleting": false
          }
        },
        "gather": {
          "logged": 1639088967184
        }
      }
    },
    {
      "cell_type": "code",
      "source": [
        "i = 259\r\n",
        "\r\n",
        "print(pred_list[i])\r\n",
        "print(Y_test[i])\r\n",
        "print(test_accuracies[i])"
      ],
      "outputs": [
        {
          "output_type": "stream",
          "name": "stdout",
          "text": "[[0 0 0 0 0 0 0 0 0 0]\n [0 0 0 0 0 0 0 0 1 0]\n [0 0 0 0 0 0 0 0 1 1]\n [0 0 0 0 1 0 0 1 0 1]\n [0 0 0 1 1 0 0 0 0 1]\n [0 0 0 0 0 0 0 0 0 1]\n [0 0 0 0 0 0 0 0 0 0]\n [0 0 0 1 1 0 0 0 0 1]\n [0 0 0 0 0 0 0 1 0 0]\n [1 1 0 1 1 1 0 1 0 1]]\n[[0 0 0 0 0 0 0 0 0 0]\n [0 0 0 0 0 0 0 0 1 0]\n [0 1 0 0 0 0 0 0 1 1]\n [0 0 1 0 1 0 0 0 0 1]\n [0 0 0 1 1 0 0 0 0 1]\n [0 0 0 0 0 0 0 0 0 1]\n [0 0 0 0 0 0 0 1 0 0]\n [0 0 0 0 1 1 0 0 0 1]\n [0 0 0 0 0 0 0 1 0 0]\n [1 1 0 1 0 0 0 1 0 1]]\n0.92\n"
        }
      ],
      "execution_count": 41,
      "metadata": {
        "jupyter": {
          "source_hidden": false,
          "outputs_hidden": false
        },
        "nteract": {
          "transient": {
            "deleting": false
          }
        },
        "gather": {
          "logged": 1639089147401
        }
      }
    },
    {
      "cell_type": "code",
      "source": [],
      "outputs": [],
      "execution_count": null,
      "metadata": {
        "jupyter": {
          "source_hidden": false,
          "outputs_hidden": false
        },
        "nteract": {
          "transient": {
            "deleting": false
          }
        }
      }
    }
  ],
  "metadata": {
    "interpreter": {
      "hash": "845270aa2c885a888b45db3c1bae60d031e62d06b801817adb1ea555314d8774"
    },
    "kernelspec": {
      "name": "python3",
      "language": "python",
      "display_name": "Python 3"
    },
    "language_info": {
      "name": "python",
      "version": "3.6.9",
      "mimetype": "text/x-python",
      "codemirror_mode": {
        "name": "ipython",
        "version": 3
      },
      "pygments_lexer": "ipython3",
      "nbconvert_exporter": "python",
      "file_extension": ".py"
    },
    "orig_nbformat": 4,
    "kernel_info": {
      "name": "python3"
    },
    "nteract": {
      "version": "nteract-front-end@1.0.0"
    },
    "microsoft": {
      "host": {
        "AzureML": {
          "notebookHasBeenCompleted": true
        }
      }
    }
  },
  "nbformat": 4,
  "nbformat_minor": 2
}